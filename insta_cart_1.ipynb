{
  "nbformat": 4,
  "nbformat_minor": 0,
  "metadata": {
    "kernelspec": {
      "display_name": "Python 3",
      "language": "python",
      "name": "python3"
    },
    "language_info": {
      "codemirror_mode": {
        "name": "ipython",
        "version": 3
      },
      "file_extension": ".py",
      "mimetype": "text/x-python",
      "name": "python",
      "nbconvert_exporter": "python",
      "pygments_lexer": "ipython3",
      "version": "3.7.2"
    },
    "colab": {
      "name": "insta_cart_1.ipynb",
      "version": "0.3.2",
      "provenance": [],
      "machine_shape": "hm"
    }
  },
  "cells": [
    {
      "cell_type": "markdown",
      "metadata": {
        "id": "_3gYP3eqY18L",
        "colab_type": "text"
      },
      "source": [
        "This notebook contains exercises related to Capstone Project 1.\n",
        "\n",
        "Instacart data structure:\n",
        "   - orders: list of all orders in the dataset. 1 row per order, includes day of the week and time of the day;\n",
        "   - order_products train: which products (product_id) were ordered; in which order products were added to the cart, and if the product is re-order (1) or not (0);\n",
        "   - contain the names of products with their corresponding product_id;\n",
        "   - order_products prior: the structure is the same as order_product_train.csv;\n",
        "   - aisles contains the aisles;\n",
        "   - departments: contains the department names."
      ]
    },
    {
      "cell_type": "code",
      "metadata": {
        "id": "lYaz3cx7ZCfC",
        "colab_type": "code",
        "outputId": "933b8c6e-a095-4c86-9a3b-74be8e0d2e90",
        "colab": {
          "resources": {
            "http://localhost:8080/nbextensions/google.colab/files.js": {
              "data": "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",
              "ok": true,
              "headers": [
                [
                  "content-type",
                  "application/javascript"
                ]
              ],
              "status": 200,
              "status_text": "OK"
            }
          },
          "base_uri": "https://localhost:8080/",
          "height": 93
        }
      },
      "source": [
        "from google.colab import files\n",
        "\n",
        "uploaded = files.upload()\n",
        "\n",
        "for fn in uploaded.keys():\n",
        "  print('User uploaded file \"{name}\" with length {length} bytes'.format(\n",
        "      name=fn, length=len(uploaded[fn])))"
      ],
      "execution_count": 8,
      "outputs": [
        {
          "output_type": "display_data",
          "data": {
            "text/html": [
              "\n",
              "     <input type=\"file\" id=\"files-a64442da-be52-4ca5-8d15-f4ed07c2feac\" name=\"files[]\" multiple disabled />\n",
              "     <output id=\"result-a64442da-be52-4ca5-8d15-f4ed07c2feac\">\n",
              "      Upload widget is only available when the cell has been executed in the\n",
              "      current browser session. Please rerun this cell to enable.\n",
              "      </output>\n",
              "      <script src=\"/nbextensions/google.colab/files.js\"></script> "
            ],
            "text/plain": [
              "<IPython.core.display.HTML object>"
            ]
          },
          "metadata": {
            "tags": []
          }
        },
        {
          "output_type": "stream",
          "text": [
            "Saving instacart_prior.zip to instacart_prior.zip\n",
            "User uploaded file \"instacart_prior.zip\" with length 164686327 bytes\n"
          ],
          "name": "stdout"
        }
      ]
    },
    {
      "cell_type": "code",
      "metadata": {
        "id": "TPdd6cmPY_Vr",
        "colab_type": "code",
        "outputId": "78aeab28-0462-48fc-8874-2c2d094f333d",
        "colab": {
          "base_uri": "https://localhost:8080/",
          "height": 146
        }
      },
      "source": [
        "!unzip instacart_prior.zip\n",
        "!unzip instacart_orders.zip\n",
        "!ls"
      ],
      "execution_count": 9,
      "outputs": [
        {
          "output_type": "stream",
          "text": [
            "Archive:  instacart_prior.zip\n",
            "  inflating: order_products_prior.csv  \n",
            "Archive:  instacart_orders.zip\n",
            "  inflating: orders.csv              \n",
            "aisles.csv\t      instacart_prior.zip\torders.csv\n",
            "departments.csv       order_products_prior.csv\tproducts.csv\n",
            "instacart_orders.zip  order_products_train.csv\tsample_data\n"
          ],
          "name": "stdout"
        }
      ]
    },
    {
      "cell_type": "code",
      "metadata": {
        "id": "Gy6plOddY18S",
        "colab_type": "code",
        "colab": {}
      },
      "source": [
        "# We import the needed packages.\n",
        "import pandas as pd\n",
        "import numpy as np\n",
        "import matplotlib as plt\n",
        "%matplotlib inline\n",
        "import csv\n",
        "import seaborn as sns\n",
        "sns.set()\n",
        "pd.options.display.latex.repr=True"
      ],
      "execution_count": 0,
      "outputs": []
    },
    {
      "cell_type": "code",
      "metadata": {
        "id": "F80C7-4xY18b",
        "colab_type": "code",
        "colab": {}
      },
      "source": [
        "# Execute if needed.\n",
        "# Strings to replace names of files run in online environment.\n",
        "str_isles = 'aisles.csv'\n",
        "str_dept = 'departments.csv'\n",
        "str_prod = 'products.csv'\n",
        "str_prod_train = 'order_products_train.csv'\n",
        "str_prod_prior = 'order_products_prior.csv'\n",
        "str_orders = 'orders.csv'"
      ],
      "execution_count": 0,
      "outputs": []
    },
    {
      "cell_type": "code",
      "metadata": {
        "id": "QXV2g3KoY18l",
        "colab_type": "code",
        "colab": {}
      },
      "source": [
        "# Execute if needed.\n",
        "# Strings for local machine runs\n",
        "str_isles = 'data/aisles.csv'\n",
        "str_dept = 'data/departments.csv'\n",
        "str_prod = 'data/products.csv'\n",
        "str_prod_train = 'data/order_products_train.csv'\n",
        "str_prod_prior = 'data/order_products_prior.csv'\n",
        "str_orders = 'data/orders.csv'"
      ],
      "execution_count": 0,
      "outputs": []
    },
    {
      "cell_type": "markdown",
      "metadata": {
        "id": "T6KX9zEUY18r",
        "colab_type": "text"
      },
      "source": [
        "We read the files for data and check them.\n",
        "\n",
        "For the isles, department frames, we change these into categories."
      ]
    },
    {
      "cell_type": "code",
      "metadata": {
        "scrolled": true,
        "id": "ld0DtDacY18u",
        "colab_type": "code",
        "outputId": "881e03cc-80f3-4135-bf00-50762ab659f0",
        "colab": {
          "base_uri": "https://localhost:8080/",
          "height": 127
        }
      },
      "source": [
        "# isles frame\n",
        "isles = pd.read_csv(str_isles, index_col='aisle_id')\n",
        "isles['aisle'].astype('category')\n",
        "isles.info()"
      ],
      "execution_count": 12,
      "outputs": [
        {
          "output_type": "stream",
          "text": [
            "<class 'pandas.core.frame.DataFrame'>\n",
            "Int64Index: 134 entries, 1 to 134\n",
            "Data columns (total 1 columns):\n",
            "aisle    134 non-null object\n",
            "dtypes: object(1)\n",
            "memory usage: 2.1+ KB\n"
          ],
          "name": "stdout"
        }
      ]
    },
    {
      "cell_type": "code",
      "metadata": {
        "id": "KvP92jbiJdOT",
        "colab_type": "code",
        "outputId": "523aa583-20a5-4347-8459-7acdebbd5b88",
        "colab": {
          "base_uri": "https://localhost:8080/",
          "height": 238
        }
      },
      "source": [
        "isles.head()"
      ],
      "execution_count": 13,
      "outputs": [
        {
          "output_type": "execute_result",
          "data": {
            "text/latex": "\\begin{tabular}{ll}\n\\toprule\n{} &                       aisle \\\\\naisle\\_id &                             \\\\\n\\midrule\n1        &       prepared soups salads \\\\\n2        &           specialty cheeses \\\\\n3        &         energy granola bars \\\\\n4        &               instant foods \\\\\n5        &  marinades meat preparation \\\\\n\\bottomrule\n\\end{tabular}\n",
            "text/html": [
              "<div>\n",
              "<style scoped>\n",
              "    .dataframe tbody tr th:only-of-type {\n",
              "        vertical-align: middle;\n",
              "    }\n",
              "\n",
              "    .dataframe tbody tr th {\n",
              "        vertical-align: top;\n",
              "    }\n",
              "\n",
              "    .dataframe thead th {\n",
              "        text-align: right;\n",
              "    }\n",
              "</style>\n",
              "<table border=\"1\" class=\"dataframe\">\n",
              "  <thead>\n",
              "    <tr style=\"text-align: right;\">\n",
              "      <th></th>\n",
              "      <th>aisle</th>\n",
              "    </tr>\n",
              "    <tr>\n",
              "      <th>aisle_id</th>\n",
              "      <th></th>\n",
              "    </tr>\n",
              "  </thead>\n",
              "  <tbody>\n",
              "    <tr>\n",
              "      <th>1</th>\n",
              "      <td>prepared soups salads</td>\n",
              "    </tr>\n",
              "    <tr>\n",
              "      <th>2</th>\n",
              "      <td>specialty cheeses</td>\n",
              "    </tr>\n",
              "    <tr>\n",
              "      <th>3</th>\n",
              "      <td>energy granola bars</td>\n",
              "    </tr>\n",
              "    <tr>\n",
              "      <th>4</th>\n",
              "      <td>instant foods</td>\n",
              "    </tr>\n",
              "    <tr>\n",
              "      <th>5</th>\n",
              "      <td>marinades meat preparation</td>\n",
              "    </tr>\n",
              "  </tbody>\n",
              "</table>\n",
              "</div>"
            ],
            "text/plain": [
              "                               aisle\n",
              "aisle_id                            \n",
              "1              prepared soups salads\n",
              "2                  specialty cheeses\n",
              "3                energy granola bars\n",
              "4                      instant foods\n",
              "5         marinades meat preparation"
            ]
          },
          "metadata": {
            "tags": []
          },
          "execution_count": 13
        }
      ]
    },
    {
      "cell_type": "markdown",
      "metadata": {
        "id": "BFvZB7StY182",
        "colab_type": "text"
      },
      "source": [
        "We change the type of the department data to category."
      ]
    },
    {
      "cell_type": "code",
      "metadata": {
        "scrolled": true,
        "id": "xRetHV2PY184",
        "colab_type": "code",
        "outputId": "4e4e8fa4-40ea-466d-f66a-32bc06ef1ffb",
        "colab": {
          "base_uri": "https://localhost:8080/",
          "height": 127
        }
      },
      "source": [
        "# department frame dept\n",
        "dept = pd.read_csv(str_dept, index_col='department_id')\n",
        "dept.department.astype('category')\n",
        "dept.info()"
      ],
      "execution_count": 14,
      "outputs": [
        {
          "output_type": "stream",
          "text": [
            "<class 'pandas.core.frame.DataFrame'>\n",
            "Int64Index: 21 entries, 1 to 21\n",
            "Data columns (total 1 columns):\n",
            "department    21 non-null object\n",
            "dtypes: object(1)\n",
            "memory usage: 336.0+ bytes\n"
          ],
          "name": "stdout"
        }
      ]
    },
    {
      "cell_type": "code",
      "metadata": {
        "id": "vb9ZllSPJl3f",
        "colab_type": "code",
        "outputId": "45f2af62-adca-4472-fd40-f7adae6920bb",
        "colab": {
          "base_uri": "https://localhost:8080/",
          "height": 238
        }
      },
      "source": [
        "dept.head()"
      ],
      "execution_count": 15,
      "outputs": [
        {
          "output_type": "execute_result",
          "data": {
            "text/latex": "\\begin{tabular}{ll}\n\\toprule\n{} & department \\\\\ndepartment\\_id &            \\\\\n\\midrule\n1             &     frozen \\\\\n2             &      other \\\\\n3             &     bakery \\\\\n4             &    produce \\\\\n5             &    alcohol \\\\\n\\bottomrule\n\\end{tabular}\n",
            "text/html": [
              "<div>\n",
              "<style scoped>\n",
              "    .dataframe tbody tr th:only-of-type {\n",
              "        vertical-align: middle;\n",
              "    }\n",
              "\n",
              "    .dataframe tbody tr th {\n",
              "        vertical-align: top;\n",
              "    }\n",
              "\n",
              "    .dataframe thead th {\n",
              "        text-align: right;\n",
              "    }\n",
              "</style>\n",
              "<table border=\"1\" class=\"dataframe\">\n",
              "  <thead>\n",
              "    <tr style=\"text-align: right;\">\n",
              "      <th></th>\n",
              "      <th>department</th>\n",
              "    </tr>\n",
              "    <tr>\n",
              "      <th>department_id</th>\n",
              "      <th></th>\n",
              "    </tr>\n",
              "  </thead>\n",
              "  <tbody>\n",
              "    <tr>\n",
              "      <th>1</th>\n",
              "      <td>frozen</td>\n",
              "    </tr>\n",
              "    <tr>\n",
              "      <th>2</th>\n",
              "      <td>other</td>\n",
              "    </tr>\n",
              "    <tr>\n",
              "      <th>3</th>\n",
              "      <td>bakery</td>\n",
              "    </tr>\n",
              "    <tr>\n",
              "      <th>4</th>\n",
              "      <td>produce</td>\n",
              "    </tr>\n",
              "    <tr>\n",
              "      <th>5</th>\n",
              "      <td>alcohol</td>\n",
              "    </tr>\n",
              "  </tbody>\n",
              "</table>\n",
              "</div>"
            ],
            "text/plain": [
              "              department\n",
              "department_id           \n",
              "1                 frozen\n",
              "2                  other\n",
              "3                 bakery\n",
              "4                produce\n",
              "5                alcohol"
            ]
          },
          "metadata": {
            "tags": []
          },
          "execution_count": 15
        }
      ]
    },
    {
      "cell_type": "markdown",
      "metadata": {
        "id": "YSiVLQydY19B",
        "colab_type": "text"
      },
      "source": [
        ""
      ]
    },
    {
      "cell_type": "code",
      "metadata": {
        "scrolled": true,
        "id": "EiE2nZscY19D",
        "colab_type": "code",
        "outputId": "fef6ec7a-df27-4162-9c88-c7d692a42dbf",
        "colab": {
          "base_uri": "https://localhost:8080/",
          "height": 164
        }
      },
      "source": [
        "# product frame\n",
        "prod = pd.read_csv(str_prod, index_col='product_id')\n",
        "prod.info()"
      ],
      "execution_count": 16,
      "outputs": [
        {
          "output_type": "stream",
          "text": [
            "<class 'pandas.core.frame.DataFrame'>\n",
            "Int64Index: 49688 entries, 1 to 49688\n",
            "Data columns (total 3 columns):\n",
            "product_name     49688 non-null object\n",
            "aisle_id         49688 non-null int64\n",
            "department_id    49688 non-null int64\n",
            "dtypes: int64(2), object(1)\n",
            "memory usage: 1.5+ MB\n"
          ],
          "name": "stdout"
        }
      ]
    },
    {
      "cell_type": "code",
      "metadata": {
        "id": "h80OyQOEJxOk",
        "colab_type": "code",
        "outputId": "d38373c3-a2e5-4366-d1a4-b19be9c4a651",
        "colab": {
          "base_uri": "https://localhost:8080/",
          "height": 238
        }
      },
      "source": [
        "prod.head()"
      ],
      "execution_count": 17,
      "outputs": [
        {
          "output_type": "execute_result",
          "data": {
            "text/latex": "\\begin{tabular}{llrr}\n\\toprule\n{} &                                       product\\_name &  aisle\\_id &  department\\_id \\\\\nproduct\\_id &                                                    &           &                \\\\\n\\midrule\n1          &                         Chocolate Sandwich Cookies &        61 &             19 \\\\\n2          &                                   All-Seasons Salt &       104 &             13 \\\\\n3          &               Robust Golden Unsweetened Oolong Tea &        94 &              7 \\\\\n4          &  Smart Ones Classic Favorites Mini Rigatoni Wit... &        38 &              1 \\\\\n5          &                          Green Chile Anytime Sauce &         5 &             13 \\\\\n\\bottomrule\n\\end{tabular}\n",
            "text/html": [
              "<div>\n",
              "<style scoped>\n",
              "    .dataframe tbody tr th:only-of-type {\n",
              "        vertical-align: middle;\n",
              "    }\n",
              "\n",
              "    .dataframe tbody tr th {\n",
              "        vertical-align: top;\n",
              "    }\n",
              "\n",
              "    .dataframe thead th {\n",
              "        text-align: right;\n",
              "    }\n",
              "</style>\n",
              "<table border=\"1\" class=\"dataframe\">\n",
              "  <thead>\n",
              "    <tr style=\"text-align: right;\">\n",
              "      <th></th>\n",
              "      <th>product_name</th>\n",
              "      <th>aisle_id</th>\n",
              "      <th>department_id</th>\n",
              "    </tr>\n",
              "    <tr>\n",
              "      <th>product_id</th>\n",
              "      <th></th>\n",
              "      <th></th>\n",
              "      <th></th>\n",
              "    </tr>\n",
              "  </thead>\n",
              "  <tbody>\n",
              "    <tr>\n",
              "      <th>1</th>\n",
              "      <td>Chocolate Sandwich Cookies</td>\n",
              "      <td>61</td>\n",
              "      <td>19</td>\n",
              "    </tr>\n",
              "    <tr>\n",
              "      <th>2</th>\n",
              "      <td>All-Seasons Salt</td>\n",
              "      <td>104</td>\n",
              "      <td>13</td>\n",
              "    </tr>\n",
              "    <tr>\n",
              "      <th>3</th>\n",
              "      <td>Robust Golden Unsweetened Oolong Tea</td>\n",
              "      <td>94</td>\n",
              "      <td>7</td>\n",
              "    </tr>\n",
              "    <tr>\n",
              "      <th>4</th>\n",
              "      <td>Smart Ones Classic Favorites Mini Rigatoni Wit...</td>\n",
              "      <td>38</td>\n",
              "      <td>1</td>\n",
              "    </tr>\n",
              "    <tr>\n",
              "      <th>5</th>\n",
              "      <td>Green Chile Anytime Sauce</td>\n",
              "      <td>5</td>\n",
              "      <td>13</td>\n",
              "    </tr>\n",
              "  </tbody>\n",
              "</table>\n",
              "</div>"
            ],
            "text/plain": [
              "                                                 product_name  ...  department_id\n",
              "product_id                                                     ...               \n",
              "1                                  Chocolate Sandwich Cookies  ...             19\n",
              "2                                            All-Seasons Salt  ...             13\n",
              "3                        Robust Golden Unsweetened Oolong Tea  ...              7\n",
              "4           Smart Ones Classic Favorites Mini Rigatoni Wit...  ...              1\n",
              "5                                   Green Chile Anytime Sauce  ...             13\n",
              "\n",
              "[5 rows x 3 columns]"
            ]
          },
          "metadata": {
            "tags": []
          },
          "execution_count": 17
        }
      ]
    },
    {
      "cell_type": "code",
      "metadata": {
        "scrolled": true,
        "id": "dzY_CBt7Y19K",
        "colab_type": "code",
        "outputId": "ee0ef9b3-1adc-4924-d620-e4e82509a085",
        "colab": {
          "base_uri": "https://localhost:8080/",
          "height": 221
        }
      },
      "source": [
        "# train frame\n",
        "train = pd.read_csv(str_prod_train, index_col='order_id')\n",
        "train.info()"
      ],
      "execution_count": 18,
      "outputs": [
        {
          "output_type": "stream",
          "text": [
            "<class 'pandas.core.frame.DataFrame'>\n",
            "Int64Index: 1384617 entries, 1 to 3421070\n",
            "Data columns (total 3 columns):\n",
            "product_id           1384617 non-null int64\n",
            "add_to_cart_order    1384617 non-null int64\n",
            "reordered            1384617 non-null int64\n",
            "dtypes: int64(3)\n",
            "memory usage: 42.3 MB\n"
          ],
          "name": "stdout"
        },
        {
          "output_type": "stream",
          "text": [
            "/usr/local/lib/python3.6/dist-packages/numpy/lib/arraysetops.py:569: FutureWarning: elementwise comparison failed; returning scalar instead, but in the future will perform elementwise comparison\n",
            "  mask |= (ar1 == a)\n"
          ],
          "name": "stderr"
        }
      ]
    },
    {
      "cell_type": "code",
      "metadata": {
        "scrolled": true,
        "id": "h51wRC5UY19S",
        "colab_type": "code",
        "outputId": "94b0ec0b-67d0-4f4b-f2c6-b58a24e4b109",
        "colab": {
          "base_uri": "https://localhost:8080/",
          "height": 221
        }
      },
      "source": [
        "# prior frame\n",
        "prior = pd.read_csv(str_prod_prior,  index_col = 'order_id')\n",
        "prior.info()"
      ],
      "execution_count": 19,
      "outputs": [
        {
          "output_type": "stream",
          "text": [
            "/usr/local/lib/python3.6/dist-packages/numpy/lib/arraysetops.py:569: FutureWarning: elementwise comparison failed; returning scalar instead, but in the future will perform elementwise comparison\n",
            "  mask |= (ar1 == a)\n"
          ],
          "name": "stderr"
        },
        {
          "output_type": "stream",
          "text": [
            "<class 'pandas.core.frame.DataFrame'>\n",
            "Int64Index: 32434489 entries, 2 to 3421083\n",
            "Data columns (total 3 columns):\n",
            "product_id           int64\n",
            "add_to_cart_order    int64\n",
            "reordered            int64\n",
            "dtypes: int64(3)\n",
            "memory usage: 989.8 MB\n"
          ],
          "name": "stdout"
        }
      ]
    },
    {
      "cell_type": "code",
      "metadata": {
        "id": "rfjuNq-ONWNQ",
        "colab_type": "code",
        "colab": {}
      },
      "source": [
        ""
      ],
      "execution_count": 0,
      "outputs": []
    },
    {
      "cell_type": "markdown",
      "metadata": {
        "id": "8LSBRQWLY19a",
        "colab_type": "text"
      },
      "source": [
        "We change eval_set to category. The column has only three values."
      ]
    },
    {
      "cell_type": "code",
      "metadata": {
        "id": "lsJVnqbkY19b",
        "colab_type": "code",
        "outputId": "594502f1-fa33-486b-87c5-2e8e22206e93",
        "colab": {
          "base_uri": "https://localhost:8080/",
          "height": 451
        }
      },
      "source": [
        "orders = pd.read_csv(str_orders, index_col= 'order_id')\n",
        "orders.eval_set.astype('category')\n",
        "orders.head(10)"
      ],
      "execution_count": 20,
      "outputs": [
        {
          "output_type": "stream",
          "text": [
            "/usr/local/lib/python3.6/dist-packages/numpy/lib/arraysetops.py:569: FutureWarning: elementwise comparison failed; returning scalar instead, but in the future will perform elementwise comparison\n",
            "  mask |= (ar1 == a)\n"
          ],
          "name": "stderr"
        },
        {
          "output_type": "execute_result",
          "data": {
            "text/latex": "\\begin{tabular}{lrlrrrr}\n\\toprule\n{} &  user\\_id & eval\\_set &  order\\_number &  order\\_dow &  order\\_hour\\_of\\_day &  days\\_since\\_prior\\_order \\\\\norder\\_id &          &          &               &            &                    &                         \\\\\n\\midrule\n2539329  &        1 &    prior &             1 &          2 &                  8 &                     NaN \\\\\n2398795  &        1 &    prior &             2 &          3 &                  7 &                    15.0 \\\\\n473747   &        1 &    prior &             3 &          3 &                 12 &                    21.0 \\\\\n2254736  &        1 &    prior &             4 &          4 &                  7 &                    29.0 \\\\\n431534   &        1 &    prior &             5 &          4 &                 15 &                    28.0 \\\\\n3367565  &        1 &    prior &             6 &          2 &                  7 &                    19.0 \\\\\n550135   &        1 &    prior &             7 &          1 &                  9 &                    20.0 \\\\\n3108588  &        1 &    prior &             8 &          1 &                 14 &                    14.0 \\\\\n2295261  &        1 &    prior &             9 &          1 &                 16 &                     0.0 \\\\\n2550362  &        1 &    prior &            10 &          4 &                  8 &                    30.0 \\\\\n\\bottomrule\n\\end{tabular}\n",
            "text/html": [
              "<div>\n",
              "<style scoped>\n",
              "    .dataframe tbody tr th:only-of-type {\n",
              "        vertical-align: middle;\n",
              "    }\n",
              "\n",
              "    .dataframe tbody tr th {\n",
              "        vertical-align: top;\n",
              "    }\n",
              "\n",
              "    .dataframe thead th {\n",
              "        text-align: right;\n",
              "    }\n",
              "</style>\n",
              "<table border=\"1\" class=\"dataframe\">\n",
              "  <thead>\n",
              "    <tr style=\"text-align: right;\">\n",
              "      <th></th>\n",
              "      <th>user_id</th>\n",
              "      <th>eval_set</th>\n",
              "      <th>order_number</th>\n",
              "      <th>order_dow</th>\n",
              "      <th>order_hour_of_day</th>\n",
              "      <th>days_since_prior_order</th>\n",
              "    </tr>\n",
              "    <tr>\n",
              "      <th>order_id</th>\n",
              "      <th></th>\n",
              "      <th></th>\n",
              "      <th></th>\n",
              "      <th></th>\n",
              "      <th></th>\n",
              "      <th></th>\n",
              "    </tr>\n",
              "  </thead>\n",
              "  <tbody>\n",
              "    <tr>\n",
              "      <th>2539329</th>\n",
              "      <td>1</td>\n",
              "      <td>prior</td>\n",
              "      <td>1</td>\n",
              "      <td>2</td>\n",
              "      <td>8</td>\n",
              "      <td>NaN</td>\n",
              "    </tr>\n",
              "    <tr>\n",
              "      <th>2398795</th>\n",
              "      <td>1</td>\n",
              "      <td>prior</td>\n",
              "      <td>2</td>\n",
              "      <td>3</td>\n",
              "      <td>7</td>\n",
              "      <td>15.0</td>\n",
              "    </tr>\n",
              "    <tr>\n",
              "      <th>473747</th>\n",
              "      <td>1</td>\n",
              "      <td>prior</td>\n",
              "      <td>3</td>\n",
              "      <td>3</td>\n",
              "      <td>12</td>\n",
              "      <td>21.0</td>\n",
              "    </tr>\n",
              "    <tr>\n",
              "      <th>2254736</th>\n",
              "      <td>1</td>\n",
              "      <td>prior</td>\n",
              "      <td>4</td>\n",
              "      <td>4</td>\n",
              "      <td>7</td>\n",
              "      <td>29.0</td>\n",
              "    </tr>\n",
              "    <tr>\n",
              "      <th>431534</th>\n",
              "      <td>1</td>\n",
              "      <td>prior</td>\n",
              "      <td>5</td>\n",
              "      <td>4</td>\n",
              "      <td>15</td>\n",
              "      <td>28.0</td>\n",
              "    </tr>\n",
              "    <tr>\n",
              "      <th>3367565</th>\n",
              "      <td>1</td>\n",
              "      <td>prior</td>\n",
              "      <td>6</td>\n",
              "      <td>2</td>\n",
              "      <td>7</td>\n",
              "      <td>19.0</td>\n",
              "    </tr>\n",
              "    <tr>\n",
              "      <th>550135</th>\n",
              "      <td>1</td>\n",
              "      <td>prior</td>\n",
              "      <td>7</td>\n",
              "      <td>1</td>\n",
              "      <td>9</td>\n",
              "      <td>20.0</td>\n",
              "    </tr>\n",
              "    <tr>\n",
              "      <th>3108588</th>\n",
              "      <td>1</td>\n",
              "      <td>prior</td>\n",
              "      <td>8</td>\n",
              "      <td>1</td>\n",
              "      <td>14</td>\n",
              "      <td>14.0</td>\n",
              "    </tr>\n",
              "    <tr>\n",
              "      <th>2295261</th>\n",
              "      <td>1</td>\n",
              "      <td>prior</td>\n",
              "      <td>9</td>\n",
              "      <td>1</td>\n",
              "      <td>16</td>\n",
              "      <td>0.0</td>\n",
              "    </tr>\n",
              "    <tr>\n",
              "      <th>2550362</th>\n",
              "      <td>1</td>\n",
              "      <td>prior</td>\n",
              "      <td>10</td>\n",
              "      <td>4</td>\n",
              "      <td>8</td>\n",
              "      <td>30.0</td>\n",
              "    </tr>\n",
              "  </tbody>\n",
              "</table>\n",
              "</div>"
            ],
            "text/plain": [
              "          user_id eval_set  ...  order_hour_of_day  days_since_prior_order\n",
              "order_id                    ...                                           \n",
              "2539329         1    prior  ...                  8                     NaN\n",
              "2398795         1    prior  ...                  7                    15.0\n",
              "473747          1    prior  ...                 12                    21.0\n",
              "2254736         1    prior  ...                  7                    29.0\n",
              "431534          1    prior  ...                 15                    28.0\n",
              "3367565         1    prior  ...                  7                    19.0\n",
              "550135          1    prior  ...                  9                    20.0\n",
              "3108588         1    prior  ...                 14                    14.0\n",
              "2295261         1    prior  ...                 16                     0.0\n",
              "2550362         1    prior  ...                  8                    30.0\n",
              "\n",
              "[10 rows x 6 columns]"
            ]
          },
          "metadata": {
            "tags": []
          },
          "execution_count": 20
        }
      ]
    },
    {
      "cell_type": "code",
      "metadata": {
        "id": "nBiGP2a_Y19l",
        "colab_type": "code",
        "outputId": "5a9a5e7c-5c66-42d3-9608-b706cb6936df",
        "colab": {
          "base_uri": "https://localhost:8080/",
          "height": 35
        }
      },
      "source": [
        "orders.eval_set.unique()"
      ],
      "execution_count": 21,
      "outputs": [
        {
          "output_type": "execute_result",
          "data": {
            "text/plain": [
              "array(['prior', 'train', 'test'], dtype=object)"
            ]
          },
          "metadata": {
            "tags": []
          },
          "execution_count": 21
        }
      ]
    },
    {
      "cell_type": "code",
      "metadata": {
        "id": "C2oHhVmQF6K8",
        "colab_type": "code",
        "colab": {}
      },
      "source": [
        ""
      ],
      "execution_count": 0,
      "outputs": []
    },
    {
      "cell_type": "markdown",
      "metadata": {
        "id": "2iSgG7iaY19p",
        "colab_type": "text"
      },
      "source": [
        "Combining train and prior data frames."
      ]
    },
    {
      "cell_type": "code",
      "metadata": {
        "scrolled": true,
        "id": "RkqNq0smY19r",
        "colab_type": "code",
        "outputId": "569a9ac8-2cbe-42f3-8ccc-524939660bcf",
        "colab": {
          "base_uri": "https://localhost:8080/",
          "height": 238
        }
      },
      "source": [
        "# train and prior contain the same type of data. We combine these two for analysis.\n",
        "combine = pd.concat([prior, train])\n",
        "combine.head()"
      ],
      "execution_count": 23,
      "outputs": [
        {
          "output_type": "execute_result",
          "data": {
            "text/latex": "\\begin{tabular}{lrrr}\n\\toprule\n{} &  product\\_id &  add\\_to\\_cart\\_order &  reordered \\\\\norder\\_id &             &                    &            \\\\\n\\midrule\n2        &       33120 &                  1 &          1 \\\\\n2        &       28985 &                  2 &          1 \\\\\n2        &        9327 &                  3 &          0 \\\\\n2        &       45918 &                  4 &          1 \\\\\n2        &       30035 &                  5 &          0 \\\\\n\\bottomrule\n\\end{tabular}\n",
            "text/html": [
              "<div>\n",
              "<style scoped>\n",
              "    .dataframe tbody tr th:only-of-type {\n",
              "        vertical-align: middle;\n",
              "    }\n",
              "\n",
              "    .dataframe tbody tr th {\n",
              "        vertical-align: top;\n",
              "    }\n",
              "\n",
              "    .dataframe thead th {\n",
              "        text-align: right;\n",
              "    }\n",
              "</style>\n",
              "<table border=\"1\" class=\"dataframe\">\n",
              "  <thead>\n",
              "    <tr style=\"text-align: right;\">\n",
              "      <th></th>\n",
              "      <th>product_id</th>\n",
              "      <th>add_to_cart_order</th>\n",
              "      <th>reordered</th>\n",
              "    </tr>\n",
              "    <tr>\n",
              "      <th>order_id</th>\n",
              "      <th></th>\n",
              "      <th></th>\n",
              "      <th></th>\n",
              "    </tr>\n",
              "  </thead>\n",
              "  <tbody>\n",
              "    <tr>\n",
              "      <th>2</th>\n",
              "      <td>33120</td>\n",
              "      <td>1</td>\n",
              "      <td>1</td>\n",
              "    </tr>\n",
              "    <tr>\n",
              "      <th>2</th>\n",
              "      <td>28985</td>\n",
              "      <td>2</td>\n",
              "      <td>1</td>\n",
              "    </tr>\n",
              "    <tr>\n",
              "      <th>2</th>\n",
              "      <td>9327</td>\n",
              "      <td>3</td>\n",
              "      <td>0</td>\n",
              "    </tr>\n",
              "    <tr>\n",
              "      <th>2</th>\n",
              "      <td>45918</td>\n",
              "      <td>4</td>\n",
              "      <td>1</td>\n",
              "    </tr>\n",
              "    <tr>\n",
              "      <th>2</th>\n",
              "      <td>30035</td>\n",
              "      <td>5</td>\n",
              "      <td>0</td>\n",
              "    </tr>\n",
              "  </tbody>\n",
              "</table>\n",
              "</div>"
            ],
            "text/plain": [
              "          product_id  add_to_cart_order  reordered\n",
              "order_id                                          \n",
              "2              33120                  1          1\n",
              "2              28985                  2          1\n",
              "2               9327                  3          0\n",
              "2              45918                  4          1\n",
              "2              30035                  5          0"
            ]
          },
          "metadata": {
            "tags": []
          },
          "execution_count": 23
        }
      ]
    },
    {
      "cell_type": "code",
      "metadata": {
        "id": "YqdDizIIY19z",
        "colab_type": "code",
        "colab": {}
      },
      "source": [
        ""
      ],
      "execution_count": 0,
      "outputs": []
    },
    {
      "cell_type": "code",
      "metadata": {
        "id": "-Te-Td_ZY194",
        "colab_type": "code",
        "colab": {}
      },
      "source": [
        ""
      ],
      "execution_count": 0,
      "outputs": []
    },
    {
      "cell_type": "markdown",
      "metadata": {
        "id": "ncDgM3M5Y198",
        "colab_type": "text"
      },
      "source": [
        "We visualize the data."
      ]
    },
    {
      "cell_type": "code",
      "metadata": {
        "scrolled": true,
        "id": "NAlUpT1cY19-",
        "colab_type": "code",
        "colab": {}
      },
      "source": [
        "\n",
        "\n"
      ],
      "execution_count": 0,
      "outputs": []
    },
    {
      "cell_type": "markdown",
      "metadata": {
        "id": "WxlklFI7Y1-F",
        "colab_type": "text"
      },
      "source": [
        "We check to see data in hourly categories."
      ]
    },
    {
      "cell_type": "code",
      "metadata": {
        "scrolled": true,
        "id": "upIdnkxkY1-G",
        "colab_type": "code",
        "colab": {}
      },
      "source": [
        ""
      ],
      "execution_count": 0,
      "outputs": []
    },
    {
      "cell_type": "markdown",
      "metadata": {
        "id": "pqh54erGY1-M",
        "colab_type": "text"
      },
      "source": [
        " We visualize data for inspection.\n",
        " \n",
        " We see that all orders for 30 days or more are aggregated into a single column."
      ]
    },
    {
      "cell_type": "code",
      "metadata": {
        "scrolled": true,
        "id": "58NN5RLPY1-O",
        "colab_type": "code",
        "colab": {}
      },
      "source": [
        ""
      ],
      "execution_count": 0,
      "outputs": []
    },
    {
      "cell_type": "markdown",
      "metadata": {
        "id": "gJyGlJwzY1-W",
        "colab_type": "text"
      },
      "source": [
        "We cannot work on pattern where the days are 30 or more, because all orders are aggregated. We are separating these orders from set."
      ]
    },
    {
      "cell_type": "code",
      "metadata": {
        "scrolled": true,
        "id": "0OaMluhUY1-Y",
        "colab_type": "code",
        "colab": {}
      },
      "source": [
        ""
      ],
      "execution_count": 0,
      "outputs": []
    },
    {
      "cell_type": "markdown",
      "metadata": {
        "id": "KLJ2Ma4OY1-d",
        "colab_type": "text"
      },
      "source": [
        "We save orders in two separate files for further processing: orders_29.csv and orders_30.csv. \n",
        "\n",
        "The first file contains all data for orders that are reordes 29 days or less after a prior order. \n",
        "\n",
        "The other file contains all orders that are 30 days or more after the previous order."
      ]
    },
    {
      "cell_type": "code",
      "metadata": {
        "id": "8ytK6DCBY1-e",
        "colab_type": "code",
        "colab": {}
      },
      "source": [
        "\n"
      ],
      "execution_count": 0,
      "outputs": []
    },
    {
      "cell_type": "markdown",
      "metadata": {
        "id": "n-FxHDOwY1-m",
        "colab_type": "text"
      },
      "source": [
        "We investigate relationship between days sinse prior order and number of items purchased. We use trunkated file, because 30 days is an agregate that contains 30 or more days."
      ]
    },
    {
      "cell_type": "code",
      "metadata": {
        "id": "vWHyNnmIY1-n",
        "colab_type": "code",
        "colab": {}
      },
      "source": [
        "\n"
      ],
      "execution_count": 0,
      "outputs": []
    },
    {
      "cell_type": "code",
      "metadata": {
        "id": "7_Ga-r8NY1-r",
        "colab_type": "code",
        "colab": {}
      },
      "source": [
        "last_item = combine.groupby('order_id').count()['add_to_cart_order']\n"
      ],
      "execution_count": 0,
      "outputs": []
    },
    {
      "cell_type": "code",
      "metadata": {
        "id": "YqapcoAYuKW9",
        "colab_type": "code",
        "colab": {}
      },
      "source": [
        "df_all = pd.merge(left=orders, right=combine, left_on='order_id', right_on='order_id')"
      ],
      "execution_count": 0,
      "outputs": []
    },
    {
      "cell_type": "code",
      "metadata": {
        "id": "Mkbj2a9d_CHn",
        "colab_type": "code",
        "outputId": "af84a069-b07b-4353-90e0-0817374b3969",
        "colab": {
          "base_uri": "https://localhost:8080/",
          "height": 258
        }
      },
      "source": [
        "df_all.head()"
      ],
      "execution_count": 25,
      "outputs": [
        {
          "output_type": "execute_result",
          "data": {
            "text/latex": "\\begin{tabular}{lrlrrrrrrr}\n\\toprule\n{} &  user\\_id & eval\\_set &  order\\_number &  order\\_dow &  order\\_hour\\_of\\_day &  days\\_since\\_prior\\_order &  product\\_id &  add\\_to\\_cart\\_order &  reordered \\\\\norder\\_id &          &          &               &            &                    &                         &             &                    &            \\\\\n\\midrule\n2539329  &        1 &    prior &             1 &          2 &                  8 &                     NaN &         196 &                  1 &          0 \\\\\n2539329  &        1 &    prior &             1 &          2 &                  8 &                     NaN &       14084 &                  2 &          0 \\\\\n2539329  &        1 &    prior &             1 &          2 &                  8 &                     NaN &       12427 &                  3 &          0 \\\\\n2539329  &        1 &    prior &             1 &          2 &                  8 &                     NaN &       26088 &                  4 &          0 \\\\\n2539329  &        1 &    prior &             1 &          2 &                  8 &                     NaN &       26405 &                  5 &          0 \\\\\n\\bottomrule\n\\end{tabular}\n",
            "text/html": [
              "<div>\n",
              "<style scoped>\n",
              "    .dataframe tbody tr th:only-of-type {\n",
              "        vertical-align: middle;\n",
              "    }\n",
              "\n",
              "    .dataframe tbody tr th {\n",
              "        vertical-align: top;\n",
              "    }\n",
              "\n",
              "    .dataframe thead th {\n",
              "        text-align: right;\n",
              "    }\n",
              "</style>\n",
              "<table border=\"1\" class=\"dataframe\">\n",
              "  <thead>\n",
              "    <tr style=\"text-align: right;\">\n",
              "      <th></th>\n",
              "      <th>user_id</th>\n",
              "      <th>eval_set</th>\n",
              "      <th>order_number</th>\n",
              "      <th>order_dow</th>\n",
              "      <th>order_hour_of_day</th>\n",
              "      <th>days_since_prior_order</th>\n",
              "      <th>product_id</th>\n",
              "      <th>add_to_cart_order</th>\n",
              "      <th>reordered</th>\n",
              "    </tr>\n",
              "    <tr>\n",
              "      <th>order_id</th>\n",
              "      <th></th>\n",
              "      <th></th>\n",
              "      <th></th>\n",
              "      <th></th>\n",
              "      <th></th>\n",
              "      <th></th>\n",
              "      <th></th>\n",
              "      <th></th>\n",
              "      <th></th>\n",
              "    </tr>\n",
              "  </thead>\n",
              "  <tbody>\n",
              "    <tr>\n",
              "      <th>2539329</th>\n",
              "      <td>1</td>\n",
              "      <td>prior</td>\n",
              "      <td>1</td>\n",
              "      <td>2</td>\n",
              "      <td>8</td>\n",
              "      <td>NaN</td>\n",
              "      <td>196</td>\n",
              "      <td>1</td>\n",
              "      <td>0</td>\n",
              "    </tr>\n",
              "    <tr>\n",
              "      <th>2539329</th>\n",
              "      <td>1</td>\n",
              "      <td>prior</td>\n",
              "      <td>1</td>\n",
              "      <td>2</td>\n",
              "      <td>8</td>\n",
              "      <td>NaN</td>\n",
              "      <td>14084</td>\n",
              "      <td>2</td>\n",
              "      <td>0</td>\n",
              "    </tr>\n",
              "    <tr>\n",
              "      <th>2539329</th>\n",
              "      <td>1</td>\n",
              "      <td>prior</td>\n",
              "      <td>1</td>\n",
              "      <td>2</td>\n",
              "      <td>8</td>\n",
              "      <td>NaN</td>\n",
              "      <td>12427</td>\n",
              "      <td>3</td>\n",
              "      <td>0</td>\n",
              "    </tr>\n",
              "    <tr>\n",
              "      <th>2539329</th>\n",
              "      <td>1</td>\n",
              "      <td>prior</td>\n",
              "      <td>1</td>\n",
              "      <td>2</td>\n",
              "      <td>8</td>\n",
              "      <td>NaN</td>\n",
              "      <td>26088</td>\n",
              "      <td>4</td>\n",
              "      <td>0</td>\n",
              "    </tr>\n",
              "    <tr>\n",
              "      <th>2539329</th>\n",
              "      <td>1</td>\n",
              "      <td>prior</td>\n",
              "      <td>1</td>\n",
              "      <td>2</td>\n",
              "      <td>8</td>\n",
              "      <td>NaN</td>\n",
              "      <td>26405</td>\n",
              "      <td>5</td>\n",
              "      <td>0</td>\n",
              "    </tr>\n",
              "  </tbody>\n",
              "</table>\n",
              "</div>"
            ],
            "text/plain": [
              "          user_id eval_set  ...  add_to_cart_order  reordered\n",
              "order_id                    ...                              \n",
              "2539329         1    prior  ...                  1          0\n",
              "2539329         1    prior  ...                  2          0\n",
              "2539329         1    prior  ...                  3          0\n",
              "2539329         1    prior  ...                  4          0\n",
              "2539329         1    prior  ...                  5          0\n",
              "\n",
              "[5 rows x 9 columns]"
            ]
          },
          "metadata": {
            "tags": []
          },
          "execution_count": 25
        }
      ]
    },
    {
      "cell_type": "code",
      "metadata": {
        "id": "ZamJNjyauqH1",
        "colab_type": "code",
        "outputId": "620bd02c-e4d1-4388-dfeb-932ef753dc8e",
        "colab": {
          "base_uri": "https://localhost:8080/",
          "height": 274
        }
      },
      "source": [
        "df_all.info()"
      ],
      "execution_count": 26,
      "outputs": [
        {
          "output_type": "stream",
          "text": [
            "<class 'pandas.core.frame.DataFrame'>\n",
            "Int64Index: 33819106 entries, 2539329 to 272231\n",
            "Data columns (total 9 columns):\n",
            "user_id                   int64\n",
            "eval_set                  object\n",
            "order_number              int64\n",
            "order_dow                 int64\n",
            "order_hour_of_day         int64\n",
            "days_since_prior_order    float64\n",
            "product_id                int64\n",
            "add_to_cart_order         int64\n",
            "reordered                 int64\n",
            "dtypes: float64(1), int64(7), object(1)\n",
            "memory usage: 2.5+ GB\n"
          ],
          "name": "stdout"
        }
      ]
    },
    {
      "cell_type": "code",
      "metadata": {
        "id": "2i6vWnT4u1L-",
        "colab_type": "code",
        "outputId": "7a60b7f7-e539-47bf-d7f8-49a5d82d10fb",
        "colab": {
          "base_uri": "https://localhost:8080/",
          "height": 182
        }
      },
      "source": [
        "prod_all = pd.merge(left=prod, right=dept, left_on='department_id', right_on='department_id')\n",
        "prod_all.info()"
      ],
      "execution_count": 27,
      "outputs": [
        {
          "output_type": "stream",
          "text": [
            "<class 'pandas.core.frame.DataFrame'>\n",
            "Int64Index: 49688 entries, 0 to 49687\n",
            "Data columns (total 4 columns):\n",
            "product_name     49688 non-null object\n",
            "aisle_id         49688 non-null int64\n",
            "department_id    49688 non-null int64\n",
            "department       49688 non-null object\n",
            "dtypes: int64(2), object(2)\n",
            "memory usage: 1.9+ MB\n"
          ],
          "name": "stdout"
        }
      ]
    },
    {
      "cell_type": "code",
      "metadata": {
        "id": "t7z9sUk7wVKN",
        "colab_type": "code",
        "outputId": "19298911-314a-42f9-b863-4c287a3895bb",
        "colab": {
          "base_uri": "https://localhost:8080/",
          "height": 201
        }
      },
      "source": [
        "prod_all = pd.merge(left=prod_all, right=isles, left_on='aisle_id', right_on='aisle_id')\n",
        "prod_all.info()"
      ],
      "execution_count": 28,
      "outputs": [
        {
          "output_type": "stream",
          "text": [
            "<class 'pandas.core.frame.DataFrame'>\n",
            "Int64Index: 49688 entries, 0 to 49687\n",
            "Data columns (total 5 columns):\n",
            "product_name     49688 non-null object\n",
            "aisle_id         49688 non-null int64\n",
            "department_id    49688 non-null int64\n",
            "department       49688 non-null object\n",
            "aisle            49688 non-null object\n",
            "dtypes: int64(2), object(3)\n",
            "memory usage: 2.3+ MB\n"
          ],
          "name": "stdout"
        }
      ]
    },
    {
      "cell_type": "code",
      "metadata": {
        "id": "3VUhVih4xk2X",
        "colab_type": "code",
        "outputId": "64934598-a60c-444c-aa0d-d2bcb8149660",
        "colab": {
          "base_uri": "https://localhost:8080/",
          "height": 164
        }
      },
      "source": [
        "prod_all=prod_all[['product_name', 'aisle', 'department']]\n",
        "prod_all.info()"
      ],
      "execution_count": 29,
      "outputs": [
        {
          "output_type": "stream",
          "text": [
            "<class 'pandas.core.frame.DataFrame'>\n",
            "Int64Index: 49688 entries, 0 to 49687\n",
            "Data columns (total 3 columns):\n",
            "product_name    49688 non-null object\n",
            "aisle           49688 non-null object\n",
            "department      49688 non-null object\n",
            "dtypes: object(3)\n",
            "memory usage: 1.5+ MB\n"
          ],
          "name": "stdout"
        }
      ]
    },
    {
      "cell_type": "code",
      "metadata": {
        "id": "fNiXY82A1lLk",
        "colab_type": "code",
        "colab": {}
      },
      "source": [
        ""
      ],
      "execution_count": 0,
      "outputs": []
    },
    {
      "cell_type": "code",
      "metadata": {
        "id": "UhFHhH0hyVKq",
        "colab_type": "code",
        "outputId": "06112400-124b-4377-f765-66f45a887143",
        "colab": {
          "base_uri": "https://localhost:8080/",
          "height": 206
        }
      },
      "source": [
        "prod_all.head()"
      ],
      "execution_count": 30,
      "outputs": [
        {
          "output_type": "execute_result",
          "data": {
            "text/latex": "\\begin{tabular}{llll}\n\\toprule\n{} &                                    product\\_name &          aisle & department \\\\\n\\midrule\n0 &                      Chocolate Sandwich Cookies &  cookies cakes &     snacks \\\\\n1 &               Nutter Butter Cookie Bites Go-Pak &  cookies cakes &     snacks \\\\\n2 &                           Danish Butter Cookies &  cookies cakes &     snacks \\\\\n3 &  Gluten Free All Natural Chocolate Chip Cookies &  cookies cakes &     snacks \\\\\n4 &                    Mini Nilla Wafers Munch Pack &  cookies cakes &     snacks \\\\\n\\bottomrule\n\\end{tabular}\n",
            "text/html": [
              "<div>\n",
              "<style scoped>\n",
              "    .dataframe tbody tr th:only-of-type {\n",
              "        vertical-align: middle;\n",
              "    }\n",
              "\n",
              "    .dataframe tbody tr th {\n",
              "        vertical-align: top;\n",
              "    }\n",
              "\n",
              "    .dataframe thead th {\n",
              "        text-align: right;\n",
              "    }\n",
              "</style>\n",
              "<table border=\"1\" class=\"dataframe\">\n",
              "  <thead>\n",
              "    <tr style=\"text-align: right;\">\n",
              "      <th></th>\n",
              "      <th>product_name</th>\n",
              "      <th>aisle</th>\n",
              "      <th>department</th>\n",
              "    </tr>\n",
              "  </thead>\n",
              "  <tbody>\n",
              "    <tr>\n",
              "      <th>0</th>\n",
              "      <td>Chocolate Sandwich Cookies</td>\n",
              "      <td>cookies cakes</td>\n",
              "      <td>snacks</td>\n",
              "    </tr>\n",
              "    <tr>\n",
              "      <th>1</th>\n",
              "      <td>Nutter Butter Cookie Bites Go-Pak</td>\n",
              "      <td>cookies cakes</td>\n",
              "      <td>snacks</td>\n",
              "    </tr>\n",
              "    <tr>\n",
              "      <th>2</th>\n",
              "      <td>Danish Butter Cookies</td>\n",
              "      <td>cookies cakes</td>\n",
              "      <td>snacks</td>\n",
              "    </tr>\n",
              "    <tr>\n",
              "      <th>3</th>\n",
              "      <td>Gluten Free All Natural Chocolate Chip Cookies</td>\n",
              "      <td>cookies cakes</td>\n",
              "      <td>snacks</td>\n",
              "    </tr>\n",
              "    <tr>\n",
              "      <th>4</th>\n",
              "      <td>Mini Nilla Wafers Munch Pack</td>\n",
              "      <td>cookies cakes</td>\n",
              "      <td>snacks</td>\n",
              "    </tr>\n",
              "  </tbody>\n",
              "</table>\n",
              "</div>"
            ],
            "text/plain": [
              "                                     product_name          aisle department\n",
              "0                      Chocolate Sandwich Cookies  cookies cakes     snacks\n",
              "1               Nutter Butter Cookie Bites Go-Pak  cookies cakes     snacks\n",
              "2                           Danish Butter Cookies  cookies cakes     snacks\n",
              "3  Gluten Free All Natural Chocolate Chip Cookies  cookies cakes     snacks\n",
              "4                    Mini Nilla Wafers Munch Pack  cookies cakes     snacks"
            ]
          },
          "metadata": {
            "tags": []
          },
          "execution_count": 30
        }
      ]
    },
    {
      "cell_type": "code",
      "metadata": {
        "id": "eUTL5Zzhz_IR",
        "colab_type": "code",
        "outputId": "c39d8ccc-381e-429d-efa5-31e28a6d7b75",
        "colab": {
          "base_uri": "https://localhost:8080/",
          "height": 329
        }
      },
      "source": [
        "df_all = pd.merge(left=df_all, right=prod_all, left_on='product_id', right_index=True)\n",
        "df_all.info()"
      ],
      "execution_count": 31,
      "outputs": [
        {
          "output_type": "stream",
          "text": [
            "<class 'pandas.core.frame.DataFrame'>\n",
            "Int64Index: 33819013 entries, 2539329 to 3093936\n",
            "Data columns (total 12 columns):\n",
            "user_id                   int64\n",
            "eval_set                  object\n",
            "order_number              int64\n",
            "order_dow                 int64\n",
            "order_hour_of_day         int64\n",
            "days_since_prior_order    float64\n",
            "product_id                int64\n",
            "add_to_cart_order         int64\n",
            "reordered                 int64\n",
            "product_name              object\n",
            "aisle                     object\n",
            "department                object\n",
            "dtypes: float64(1), int64(7), object(4)\n",
            "memory usage: 3.3+ GB\n"
          ],
          "name": "stdout"
        }
      ]
    },
    {
      "cell_type": "code",
      "metadata": {
        "id": "GxDEo73K1qsc",
        "colab_type": "code",
        "outputId": "a56fe994-8143-48fd-e655-5f016ef70be6",
        "colab": {
          "base_uri": "https://localhost:8080/",
          "height": 431
        }
      },
      "source": [
        "df_all.head()"
      ],
      "execution_count": 32,
      "outputs": [
        {
          "output_type": "execute_result",
          "data": {
            "text/latex": "\\begin{tabular}{lrlrrrrrrrlll}\n\\toprule\n{} &  user\\_id & eval\\_set &  order\\_number &  order\\_dow &  order\\_hour\\_of\\_day &  days\\_since\\_prior\\_order &  product\\_id &  add\\_to\\_cart\\_order &  reordered &                        product\\_name &          aisle & department \\\\\norder\\_id &          &          &               &            &                    &                         &             &                    &            &                                     &                &            \\\\\n\\midrule\n2539329  &        1 &    prior &             1 &          2 &                  8 &                     NaN &         196 &                  1 &          0 &  Simply Made Chocolate Chip Cookies &  cookies cakes &     snacks \\\\\n2398795  &        1 &    prior &             2 &          3 &                  7 &                    15.0 &         196 &                  1 &          1 &  Simply Made Chocolate Chip Cookies &  cookies cakes &     snacks \\\\\n473747   &        1 &    prior &             3 &          3 &                 12 &                    21.0 &         196 &                  1 &          1 &  Simply Made Chocolate Chip Cookies &  cookies cakes &     snacks \\\\\n2254736  &        1 &    prior &             4 &          4 &                  7 &                    29.0 &         196 &                  1 &          1 &  Simply Made Chocolate Chip Cookies &  cookies cakes &     snacks \\\\\n431534   &        1 &    prior &             5 &          4 &                 15 &                    28.0 &         196 &                  1 &          1 &  Simply Made Chocolate Chip Cookies &  cookies cakes &     snacks \\\\\n\\bottomrule\n\\end{tabular}\n",
            "text/html": [
              "<div>\n",
              "<style scoped>\n",
              "    .dataframe tbody tr th:only-of-type {\n",
              "        vertical-align: middle;\n",
              "    }\n",
              "\n",
              "    .dataframe tbody tr th {\n",
              "        vertical-align: top;\n",
              "    }\n",
              "\n",
              "    .dataframe thead th {\n",
              "        text-align: right;\n",
              "    }\n",
              "</style>\n",
              "<table border=\"1\" class=\"dataframe\">\n",
              "  <thead>\n",
              "    <tr style=\"text-align: right;\">\n",
              "      <th></th>\n",
              "      <th>user_id</th>\n",
              "      <th>eval_set</th>\n",
              "      <th>order_number</th>\n",
              "      <th>order_dow</th>\n",
              "      <th>order_hour_of_day</th>\n",
              "      <th>days_since_prior_order</th>\n",
              "      <th>product_id</th>\n",
              "      <th>add_to_cart_order</th>\n",
              "      <th>reordered</th>\n",
              "      <th>product_name</th>\n",
              "      <th>aisle</th>\n",
              "      <th>department</th>\n",
              "    </tr>\n",
              "    <tr>\n",
              "      <th>order_id</th>\n",
              "      <th></th>\n",
              "      <th></th>\n",
              "      <th></th>\n",
              "      <th></th>\n",
              "      <th></th>\n",
              "      <th></th>\n",
              "      <th></th>\n",
              "      <th></th>\n",
              "      <th></th>\n",
              "      <th></th>\n",
              "      <th></th>\n",
              "      <th></th>\n",
              "    </tr>\n",
              "  </thead>\n",
              "  <tbody>\n",
              "    <tr>\n",
              "      <th>2539329</th>\n",
              "      <td>1</td>\n",
              "      <td>prior</td>\n",
              "      <td>1</td>\n",
              "      <td>2</td>\n",
              "      <td>8</td>\n",
              "      <td>NaN</td>\n",
              "      <td>196</td>\n",
              "      <td>1</td>\n",
              "      <td>0</td>\n",
              "      <td>Simply Made Chocolate Chip Cookies</td>\n",
              "      <td>cookies cakes</td>\n",
              "      <td>snacks</td>\n",
              "    </tr>\n",
              "    <tr>\n",
              "      <th>2398795</th>\n",
              "      <td>1</td>\n",
              "      <td>prior</td>\n",
              "      <td>2</td>\n",
              "      <td>3</td>\n",
              "      <td>7</td>\n",
              "      <td>15.0</td>\n",
              "      <td>196</td>\n",
              "      <td>1</td>\n",
              "      <td>1</td>\n",
              "      <td>Simply Made Chocolate Chip Cookies</td>\n",
              "      <td>cookies cakes</td>\n",
              "      <td>snacks</td>\n",
              "    </tr>\n",
              "    <tr>\n",
              "      <th>473747</th>\n",
              "      <td>1</td>\n",
              "      <td>prior</td>\n",
              "      <td>3</td>\n",
              "      <td>3</td>\n",
              "      <td>12</td>\n",
              "      <td>21.0</td>\n",
              "      <td>196</td>\n",
              "      <td>1</td>\n",
              "      <td>1</td>\n",
              "      <td>Simply Made Chocolate Chip Cookies</td>\n",
              "      <td>cookies cakes</td>\n",
              "      <td>snacks</td>\n",
              "    </tr>\n",
              "    <tr>\n",
              "      <th>2254736</th>\n",
              "      <td>1</td>\n",
              "      <td>prior</td>\n",
              "      <td>4</td>\n",
              "      <td>4</td>\n",
              "      <td>7</td>\n",
              "      <td>29.0</td>\n",
              "      <td>196</td>\n",
              "      <td>1</td>\n",
              "      <td>1</td>\n",
              "      <td>Simply Made Chocolate Chip Cookies</td>\n",
              "      <td>cookies cakes</td>\n",
              "      <td>snacks</td>\n",
              "    </tr>\n",
              "    <tr>\n",
              "      <th>431534</th>\n",
              "      <td>1</td>\n",
              "      <td>prior</td>\n",
              "      <td>5</td>\n",
              "      <td>4</td>\n",
              "      <td>15</td>\n",
              "      <td>28.0</td>\n",
              "      <td>196</td>\n",
              "      <td>1</td>\n",
              "      <td>1</td>\n",
              "      <td>Simply Made Chocolate Chip Cookies</td>\n",
              "      <td>cookies cakes</td>\n",
              "      <td>snacks</td>\n",
              "    </tr>\n",
              "  </tbody>\n",
              "</table>\n",
              "</div>"
            ],
            "text/plain": [
              "          user_id eval_set  ...          aisle  department\n",
              "order_id                    ...                           \n",
              "2539329         1    prior  ...  cookies cakes      snacks\n",
              "2398795         1    prior  ...  cookies cakes      snacks\n",
              "473747          1    prior  ...  cookies cakes      snacks\n",
              "2254736         1    prior  ...  cookies cakes      snacks\n",
              "431534          1    prior  ...  cookies cakes      snacks\n",
              "\n",
              "[5 rows x 12 columns]"
            ]
          },
          "metadata": {
            "tags": []
          },
          "execution_count": 32
        }
      ]
    },
    {
      "cell_type": "code",
      "metadata": {
        "id": "62zlFt3hQOv0",
        "colab_type": "code",
        "colab": {}
      },
      "source": [
        "del df_all['product_id']"
      ],
      "execution_count": 0,
      "outputs": []
    },
    {
      "cell_type": "code",
      "metadata": {
        "id": "T5m4yGy4QVO6",
        "colab_type": "code",
        "colab": {
          "base_uri": "https://localhost:8080/",
          "height": 311
        },
        "outputId": "f6829784-4bca-4f43-f5c3-4c98d12bb13e"
      },
      "source": [
        "df_all.info()"
      ],
      "execution_count": 34,
      "outputs": [
        {
          "output_type": "stream",
          "text": [
            "<class 'pandas.core.frame.DataFrame'>\n",
            "Int64Index: 33819013 entries, 2539329 to 3093936\n",
            "Data columns (total 11 columns):\n",
            "user_id                   int64\n",
            "eval_set                  object\n",
            "order_number              int64\n",
            "order_dow                 int64\n",
            "order_hour_of_day         int64\n",
            "days_since_prior_order    float64\n",
            "add_to_cart_order         int64\n",
            "reordered                 int64\n",
            "product_name              object\n",
            "aisle                     object\n",
            "department                object\n",
            "dtypes: float64(1), int64(6), object(4)\n",
            "memory usage: 3.0+ GB\n"
          ],
          "name": "stdout"
        }
      ]
    },
    {
      "cell_type": "code",
      "metadata": {
        "id": "IR3acyyIODKd",
        "colab_type": "code",
        "colab": {}
      },
      "source": [
        "# saving the ready dataframe for further cleaning and exploration\n",
        "\n",
        "df_all.to_csv('combined_data.csv', chunksize=1000000)"
      ],
      "execution_count": 0,
      "outputs": []
    },
    {
      "cell_type": "code",
      "metadata": {
        "id": "l_kQct7SQ9ZG",
        "colab_type": "code",
        "colab": {}
      },
      "source": [
        "df_all = pd.read_csv('combined_data.csv')"
      ],
      "execution_count": 0,
      "outputs": []
    },
    {
      "cell_type": "code",
      "metadata": {
        "id": "vP54dQWURZQL",
        "colab_type": "code",
        "colab": {
          "base_uri": "https://localhost:8080/",
          "height": 329
        },
        "outputId": "bbd670bb-7880-41ce-fb02-59900e9618fc"
      },
      "source": [
        "df_all.info()"
      ],
      "execution_count": 38,
      "outputs": [
        {
          "output_type": "stream",
          "text": [
            "<class 'pandas.core.frame.DataFrame'>\n",
            "RangeIndex: 33819013 entries, 0 to 33819012\n",
            "Data columns (total 12 columns):\n",
            "order_id                  int64\n",
            "user_id                   int64\n",
            "eval_set                  object\n",
            "order_number              int64\n",
            "order_dow                 int64\n",
            "order_hour_of_day         int64\n",
            "days_since_prior_order    float64\n",
            "add_to_cart_order         int64\n",
            "reordered                 int64\n",
            "product_name              object\n",
            "aisle                     object\n",
            "department                object\n",
            "dtypes: float64(1), int64(7), object(4)\n",
            "memory usage: 3.0+ GB\n"
          ],
          "name": "stdout"
        }
      ]
    },
    {
      "cell_type": "code",
      "metadata": {
        "id": "aDq7_L3ScjXZ",
        "colab_type": "code",
        "outputId": "ab7d9801-6d97-4f72-8995-795dac1f8115",
        "colab": {
          "base_uri": "https://localhost:8080/",
          "height": 35
        }
      },
      "source": [
        "!zip combined_data.zip combined_data.csv"
      ],
      "execution_count": 39,
      "outputs": [
        {
          "output_type": "stream",
          "text": [
            "  adding: combined_data.csv (deflated 86%)\n"
          ],
          "name": "stdout"
        }
      ]
    },
    {
      "cell_type": "code",
      "metadata": {
        "id": "MQPzBN5YU9vG",
        "colab_type": "code",
        "colab": {}
      },
      "source": [
        "name_base = 'combined_data'\n",
        "name_end = ['00.csv', '01.csv', '02.csv', '03.csv', '04.csv', '05.csv', '06.csv', '07.csv', '08.csv', '09.csv', \n",
        "           '10.csv', '11.csv', '12.csv', '13.csv', '14.csv', '15.csv', '16.csv']\n",
        "\n",
        "\n",
        "file_name = []\n",
        "for end in name_end:\n",
        "  file_name.append(name_base + str(end))\n"
      ],
      "execution_count": 0,
      "outputs": []
    },
    {
      "cell_type": "code",
      "metadata": {
        "id": "rJ_ZyOuBcEkA",
        "colab_type": "code",
        "colab": {}
      },
      "source": [
        "#function split large dataframe into chunks\n",
        "def split_frame(df, chunksize=10000):\n",
        "  list_of_frames = list()\n",
        "  num_chunks = len(df) // chunksize +1\n",
        "  for i in range(num_chunks):\n",
        "    list_of_frames.append(df[i*chunksize: (i+1)*chunksize])\n",
        "  return list_of_frames"
      ],
      "execution_count": 0,
      "outputs": []
    },
    {
      "cell_type": "code",
      "metadata": {
        "id": "ZA4shIQzSDNS",
        "colab_type": "code",
        "colab": {}
      },
      "source": [
        "small_frames = split_frame(df_all, 2000000)\n",
        "small_frames"
      ],
      "execution_count": 0,
      "outputs": []
    },
    {
      "cell_type": "code",
      "metadata": {
        "id": "7mHm9YN1eqXk",
        "colab_type": "code",
        "colab": {}
      },
      "source": [
        ""
      ],
      "execution_count": 0,
      "outputs": []
    },
    {
      "cell_type": "code",
      "metadata": {
        "id": "LaU1yHhdg1TB",
        "colab_type": "code",
        "colab": {}
      },
      "source": [
        "small_frames[16].to_csv(file_name[16])\n"
      ],
      "execution_count": 0,
      "outputs": []
    },
    {
      "cell_type": "code",
      "metadata": {
        "id": "jR7uDSUzhgSg",
        "colab_type": "code",
        "colab": {
          "base_uri": "https://localhost:8080/",
          "height": 329
        },
        "outputId": "79223066-85a8-4e24-e653-04dfe572baf9"
      },
      "source": [
        "! zip combined_data00.zip combined_data??.csv"
      ],
      "execution_count": 61,
      "outputs": [
        {
          "output_type": "stream",
          "text": [
            "  adding: combined_data00.csv (deflated 85%)\n",
            "  adding: combined_data01.csv (deflated 85%)\n",
            "  adding: combined_data02.csv (deflated 85%)\n",
            "  adding: combined_data03.csv (deflated 85%)\n",
            "  adding: combined_data04.csv (deflated 84%)\n",
            "  adding: combined_data05.csv (deflated 85%)\n",
            "  adding: combined_data06.csv (deflated 85%)\n",
            "  adding: combined_data07.csv (deflated 85%)\n",
            "  adding: combined_data08.csv (deflated 85%)\n",
            "  adding: combined_data09.csv (deflated 85%)\n",
            "  adding: combined_data10.csv (deflated 85%)\n",
            "  adding: combined_data11.csv (deflated 85%)\n",
            "  adding: combined_data12.csv (deflated 85%)\n",
            "  adding: combined_data13.csv (deflated 85%)\n",
            "  adding: combined_data14.csv (deflated 84%)\n",
            "  adding: combined_data15.csv (deflated 84%)\n",
            "  adding: combined_data16.csv (deflated 83%)\n"
          ],
          "name": "stdout"
        }
      ]
    }
  ]
}