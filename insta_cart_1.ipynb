{
  "nbformat": 4,
  "nbformat_minor": 0,
  "metadata": {
    "kernelspec": {
      "display_name": "Python 3",
      "language": "python",
      "name": "python3"
    },
    "language_info": {
      "codemirror_mode": {
        "name": "ipython",
        "version": 3
      },
      "file_extension": ".py",
      "mimetype": "text/x-python",
      "name": "python",
      "nbconvert_exporter": "python",
      "pygments_lexer": "ipython3",
      "version": "3.7.2"
    },
    "colab": {
      "name": "insta_cart_1.ipynb",
      "version": "0.3.2",
      "provenance": []
    }
  },
  "cells": [
    {
      "cell_type": "markdown",
      "metadata": {
        "id": "_3gYP3eqY18L",
        "colab_type": "text"
      },
      "source": [
        "This notebook contains exercises related to Capstone Project 1.\n",
        "\n",
        "Instacart data structure:\n",
        "   - orders: list of all orders in the dataset. 1 row per order, includes day of the week and time of the day;\n",
        "   - order_products train: which products (product_id) were ordered; in which order products were added to the cart, and if the product is re-order (1) or not (0);\n",
        "   - contain the names of products with their corresponding product_id;\n",
        "   - order_products prior: the structure is the same as order_product_train.csv;\n",
        "   - aisles contains the aisles;\n",
        "   - departments: contains the department names."
      ]
    },
    {
      "cell_type": "code",
      "metadata": {
        "id": "Gy6plOddY18S",
        "colab_type": "code",
        "colab": {}
      },
      "source": [
        "# We import the needed packages.\n",
        "import pandas as pd\n",
        "import numpy as np\n",
        "import matplotlib as plt\n",
        "%matplotlib inline\n",
        "import csv\n",
        "import seaborn as sns\n",
        "sns.set()\n",
        "pd.options.display.latex.repr=True"
      ],
      "execution_count": 0,
      "outputs": []
    },
    {
      "cell_type": "code",
      "metadata": {
        "id": "TPdd6cmPY_Vr",
        "colab_type": "code",
        "colab": {
          "base_uri": "https://localhost:8080/",
          "height": 53
        },
        "outputId": "ca8d163d-f917-4708-e088-74c9ec8b12bd"
      },
      "source": [
        "!rm instacart_prior.zip\n",
        "!ls"
      ],
      "execution_count": 16,
      "outputs": [
        {
          "output_type": "stream",
          "text": [
            "aisles.csv\t order_products_prior.csv  orders.csv\t sample_data\n",
            "departments.csv  order_products_train.csv  products.csv\n"
          ],
          "name": "stdout"
        }
      ]
    },
    {
      "cell_type": "code",
      "metadata": {
        "id": "lYaz3cx7ZCfC",
        "colab_type": "code",
        "colab": {
          "resources": {
            "http://localhost:8080/nbextensions/google.colab/files.js": {
              "data": "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",
              "ok": true,
              "headers": [
                [
                  "content-type",
                  "application/javascript"
                ]
              ],
              "status": 200,
              "status_text": "OK"
            }
          },
          "base_uri": "https://localhost:8080/",
          "height": 93
        },
        "outputId": "95aa5823-596a-482e-cf4b-226b01daaa0d"
      },
      "source": [
        "from google.colab import files\n",
        "\n",
        "uploaded = files.upload()\n",
        "\n",
        "for fn in uploaded.keys():\n",
        "  print('User uploaded file \"{name}\" with length {length} bytes'.format(\n",
        "      name=fn, length=len(uploaded[fn])))"
      ],
      "execution_count": 12,
      "outputs": [
        {
          "output_type": "display_data",
          "data": {
            "text/html": [
              "\n",
              "     <input type=\"file\" id=\"files-98b31541-c1f9-4928-8912-1355d4e7dc98\" name=\"files[]\" multiple disabled />\n",
              "     <output id=\"result-98b31541-c1f9-4928-8912-1355d4e7dc98\">\n",
              "      Upload widget is only available when the cell has been executed in the\n",
              "      current browser session. Please rerun this cell to enable.\n",
              "      </output>\n",
              "      <script src=\"/nbextensions/google.colab/files.js\"></script> "
            ],
            "text/plain": [
              "<IPython.core.display.HTML object>"
            ]
          },
          "metadata": {
            "tags": []
          }
        },
        {
          "output_type": "stream",
          "text": [
            "Saving instacart_prior.zip to instacart_prior.zip\n",
            "User uploaded file \"instacart_prior.zip\" with length 164686327 bytes\n"
          ],
          "name": "stdout"
        }
      ]
    },
    {
      "cell_type": "code",
      "metadata": {
        "id": "F80C7-4xY18b",
        "colab_type": "code",
        "colab": {}
      },
      "source": [
        "# Execute if needed.\n",
        "# Strings to replace names of files run in online environment.\n",
        "str_isles = 'aisles.csv'\n",
        "str_dept = 'departments.csv'\n",
        "str_prod = 'products.csv'\n",
        "str_prod_train = 'order_products_train.csv'\n",
        "str_prod_prior = 'order_products_prior.csv'\n",
        "str_orders = 'orders.csv'"
      ],
      "execution_count": 0,
      "outputs": []
    },
    {
      "cell_type": "code",
      "metadata": {
        "id": "QXV2g3KoY18l",
        "colab_type": "code",
        "colab": {}
      },
      "source": [
        "# Execute if needed.\n",
        "# Strings for local machine runs\n",
        "str_isles = 'data/aisles.csv'\n",
        "str_dept = 'data/departments.csv'\n",
        "str_prod = 'data/products.csv'\n",
        "str_prod_train = 'data/order_products_train.csv'\n",
        "str_prod_prior = 'data/order_products_prior.csv'\n",
        "str_orders = 'data/orders.csv'"
      ],
      "execution_count": 0,
      "outputs": []
    },
    {
      "cell_type": "markdown",
      "metadata": {
        "id": "T6KX9zEUY18r",
        "colab_type": "text"
      },
      "source": [
        "We read the files for data and check them.\n",
        "\n",
        "For the isles, department frames, we change these into categories."
      ]
    },
    {
      "cell_type": "code",
      "metadata": {
        "scrolled": true,
        "id": "ld0DtDacY18u",
        "colab_type": "code",
        "colab": {
          "base_uri": "https://localhost:8080/",
          "height": 126
        },
        "outputId": "04efe33f-d4d3-4ea4-933d-23874d17749e"
      },
      "source": [
        "# isles frame\n",
        "isles = pd.read_csv(str_isles, index_col='aisle_id')\n",
        "isles['aisle'].astype('category')\n",
        "isles.info()"
      ],
      "execution_count": 5,
      "outputs": [
        {
          "output_type": "stream",
          "text": [
            "<class 'pandas.core.frame.DataFrame'>\n",
            "Int64Index: 134 entries, 1 to 134\n",
            "Data columns (total 1 columns):\n",
            "aisle    134 non-null object\n",
            "dtypes: object(1)\n",
            "memory usage: 2.1+ KB\n"
          ],
          "name": "stdout"
        }
      ]
    },
    {
      "cell_type": "markdown",
      "metadata": {
        "id": "BFvZB7StY182",
        "colab_type": "text"
      },
      "source": [
        "We change the type of the department data to category."
      ]
    },
    {
      "cell_type": "code",
      "metadata": {
        "scrolled": true,
        "id": "xRetHV2PY184",
        "colab_type": "code",
        "colab": {
          "base_uri": "https://localhost:8080/",
          "height": 237
        },
        "outputId": "33e19161-f2b7-4278-abc3-a116af4ca8a5"
      },
      "source": [
        "# department frame dept\n",
        "dept = pd.read_csv(str_dept, index_col='department_id')\n",
        "dept.department.astype('category')\n",
        "dept.head()"
      ],
      "execution_count": 6,
      "outputs": [
        {
          "output_type": "execute_result",
          "data": {
            "text/html": [
              "<div>\n",
              "<style scoped>\n",
              "    .dataframe tbody tr th:only-of-type {\n",
              "        vertical-align: middle;\n",
              "    }\n",
              "\n",
              "    .dataframe tbody tr th {\n",
              "        vertical-align: top;\n",
              "    }\n",
              "\n",
              "    .dataframe thead th {\n",
              "        text-align: right;\n",
              "    }\n",
              "</style>\n",
              "<table border=\"1\" class=\"dataframe\">\n",
              "  <thead>\n",
              "    <tr style=\"text-align: right;\">\n",
              "      <th></th>\n",
              "      <th>department</th>\n",
              "    </tr>\n",
              "    <tr>\n",
              "      <th>department_id</th>\n",
              "      <th></th>\n",
              "    </tr>\n",
              "  </thead>\n",
              "  <tbody>\n",
              "    <tr>\n",
              "      <th>1</th>\n",
              "      <td>frozen</td>\n",
              "    </tr>\n",
              "    <tr>\n",
              "      <th>2</th>\n",
              "      <td>other</td>\n",
              "    </tr>\n",
              "    <tr>\n",
              "      <th>3</th>\n",
              "      <td>bakery</td>\n",
              "    </tr>\n",
              "    <tr>\n",
              "      <th>4</th>\n",
              "      <td>produce</td>\n",
              "    </tr>\n",
              "    <tr>\n",
              "      <th>5</th>\n",
              "      <td>alcohol</td>\n",
              "    </tr>\n",
              "  </tbody>\n",
              "</table>\n",
              "</div>"
            ],
            "text/plain": [
              "              department\n",
              "department_id           \n",
              "1                 frozen\n",
              "2                  other\n",
              "3                 bakery\n",
              "4                produce\n",
              "5                alcohol"
            ]
          },
          "metadata": {
            "tags": []
          },
          "execution_count": 6
        }
      ]
    },
    {
      "cell_type": "markdown",
      "metadata": {
        "id": "YSiVLQydY19B",
        "colab_type": "text"
      },
      "source": [
        ""
      ]
    },
    {
      "cell_type": "code",
      "metadata": {
        "scrolled": true,
        "id": "EiE2nZscY19D",
        "colab_type": "code",
        "colab": {
          "base_uri": "https://localhost:8080/",
          "height": 162
        },
        "outputId": "e19b97bf-0026-4fc1-92c0-3418321fda2a"
      },
      "source": [
        "# product frame\n",
        "prod = pd.read_csv(str_prod, index_col='product_id')\n",
        "prod.info()"
      ],
      "execution_count": 7,
      "outputs": [
        {
          "output_type": "stream",
          "text": [
            "<class 'pandas.core.frame.DataFrame'>\n",
            "Int64Index: 49688 entries, 1 to 49688\n",
            "Data columns (total 3 columns):\n",
            "product_name     49688 non-null object\n",
            "aisle_id         49688 non-null int64\n",
            "department_id    49688 non-null int64\n",
            "dtypes: int64(2), object(1)\n",
            "memory usage: 1.5+ MB\n"
          ],
          "name": "stdout"
        }
      ]
    },
    {
      "cell_type": "code",
      "metadata": {
        "scrolled": true,
        "id": "dzY_CBt7Y19K",
        "colab_type": "code",
        "colab": {
          "base_uri": "https://localhost:8080/",
          "height": 201
        },
        "outputId": "3d5a362f-f5a8-4fd8-8765-3c3ed3d61021"
      },
      "source": [
        "# train frame\n",
        "train = pd.read_csv(str_prod_train, index_col=['order_id', 'product_id'])\n",
        "train.info()"
      ],
      "execution_count": 8,
      "outputs": [
        {
          "output_type": "stream",
          "text": [
            "/usr/local/lib/python3.6/dist-packages/numpy/lib/arraysetops.py:569: FutureWarning: elementwise comparison failed; returning scalar instead, but in the future will perform elementwise comparison\n",
            "  mask |= (ar1 == a)\n"
          ],
          "name": "stderr"
        },
        {
          "output_type": "stream",
          "text": [
            "<class 'pandas.core.frame.DataFrame'>\n",
            "MultiIndex: 1384617 entries, (1, 49302) to (3421070, 4724)\n",
            "Data columns (total 2 columns):\n",
            "add_to_cart_order    1384617 non-null int64\n",
            "reordered            1384617 non-null int64\n",
            "dtypes: int64(2)\n",
            "memory usage: 33.0 MB\n"
          ],
          "name": "stdout"
        }
      ]
    },
    {
      "cell_type": "code",
      "metadata": {
        "scrolled": true,
        "id": "h51wRC5UY19S",
        "colab_type": "code",
        "colab": {
          "base_uri": "https://localhost:8080/",
          "height": 201
        },
        "outputId": "d43dd898-f59d-44cb-84bc-098b19433fb0"
      },
      "source": [
        "# prior frame\n",
        "prior = pd.read_csv(str_prod_prior,  index_col = ['order_id', 'product_id'])\n",
        "prior.info()"
      ],
      "execution_count": 9,
      "outputs": [
        {
          "output_type": "stream",
          "text": [
            "/usr/local/lib/python3.6/dist-packages/numpy/lib/arraysetops.py:569: FutureWarning: elementwise comparison failed; returning scalar instead, but in the future will perform elementwise comparison\n",
            "  mask |= (ar1 == a)\n"
          ],
          "name": "stderr"
        },
        {
          "output_type": "stream",
          "text": [
            "<class 'pandas.core.frame.DataFrame'>\n",
            "MultiIndex: 32434489 entries, (2, 33120) to (3421083, 5020)\n",
            "Data columns (total 2 columns):\n",
            "add_to_cart_order    int64\n",
            "reordered            int64\n",
            "dtypes: int64(2)\n",
            "memory usage: 767.3 MB\n"
          ],
          "name": "stdout"
        }
      ]
    },
    {
      "cell_type": "markdown",
      "metadata": {
        "id": "8LSBRQWLY19a",
        "colab_type": "text"
      },
      "source": [
        "We change eval_set to category. The column has only three values."
      ]
    },
    {
      "cell_type": "code",
      "metadata": {
        "id": "lsJVnqbkY19b",
        "colab_type": "code",
        "colab": {
          "base_uri": "https://localhost:8080/",
          "height": 451
        },
        "outputId": "6af5f654-e543-4818-bf3b-7853dc12d80c"
      },
      "source": [
        "orders = pd.read_csv(str_orders, index_col=['user_id', 'order_id'])\n",
        "orders.eval_set.astype('category')\n",
        "orders.head(10)"
      ],
      "execution_count": 10,
      "outputs": [
        {
          "output_type": "stream",
          "text": [
            "/usr/local/lib/python3.6/dist-packages/numpy/lib/arraysetops.py:569: FutureWarning: elementwise comparison failed; returning scalar instead, but in the future will perform elementwise comparison\n",
            "  mask |= (ar1 == a)\n"
          ],
          "name": "stderr"
        },
        {
          "output_type": "execute_result",
          "data": {
            "text/html": [
              "<div>\n",
              "<style scoped>\n",
              "    .dataframe tbody tr th:only-of-type {\n",
              "        vertical-align: middle;\n",
              "    }\n",
              "\n",
              "    .dataframe tbody tr th {\n",
              "        vertical-align: top;\n",
              "    }\n",
              "\n",
              "    .dataframe thead th {\n",
              "        text-align: right;\n",
              "    }\n",
              "</style>\n",
              "<table border=\"1\" class=\"dataframe\">\n",
              "  <thead>\n",
              "    <tr style=\"text-align: right;\">\n",
              "      <th></th>\n",
              "      <th></th>\n",
              "      <th>eval_set</th>\n",
              "      <th>order_number</th>\n",
              "      <th>order_dow</th>\n",
              "      <th>order_hour_of_day</th>\n",
              "      <th>days_since_prior_order</th>\n",
              "    </tr>\n",
              "    <tr>\n",
              "      <th>user_id</th>\n",
              "      <th>order_id</th>\n",
              "      <th></th>\n",
              "      <th></th>\n",
              "      <th></th>\n",
              "      <th></th>\n",
              "      <th></th>\n",
              "    </tr>\n",
              "  </thead>\n",
              "  <tbody>\n",
              "    <tr>\n",
              "      <th rowspan=\"10\" valign=\"top\">1</th>\n",
              "      <th>2539329</th>\n",
              "      <td>prior</td>\n",
              "      <td>1</td>\n",
              "      <td>2</td>\n",
              "      <td>8</td>\n",
              "      <td>NaN</td>\n",
              "    </tr>\n",
              "    <tr>\n",
              "      <th>2398795</th>\n",
              "      <td>prior</td>\n",
              "      <td>2</td>\n",
              "      <td>3</td>\n",
              "      <td>7</td>\n",
              "      <td>15.0</td>\n",
              "    </tr>\n",
              "    <tr>\n",
              "      <th>473747</th>\n",
              "      <td>prior</td>\n",
              "      <td>3</td>\n",
              "      <td>3</td>\n",
              "      <td>12</td>\n",
              "      <td>21.0</td>\n",
              "    </tr>\n",
              "    <tr>\n",
              "      <th>2254736</th>\n",
              "      <td>prior</td>\n",
              "      <td>4</td>\n",
              "      <td>4</td>\n",
              "      <td>7</td>\n",
              "      <td>29.0</td>\n",
              "    </tr>\n",
              "    <tr>\n",
              "      <th>431534</th>\n",
              "      <td>prior</td>\n",
              "      <td>5</td>\n",
              "      <td>4</td>\n",
              "      <td>15</td>\n",
              "      <td>28.0</td>\n",
              "    </tr>\n",
              "    <tr>\n",
              "      <th>3367565</th>\n",
              "      <td>prior</td>\n",
              "      <td>6</td>\n",
              "      <td>2</td>\n",
              "      <td>7</td>\n",
              "      <td>19.0</td>\n",
              "    </tr>\n",
              "    <tr>\n",
              "      <th>550135</th>\n",
              "      <td>prior</td>\n",
              "      <td>7</td>\n",
              "      <td>1</td>\n",
              "      <td>9</td>\n",
              "      <td>20.0</td>\n",
              "    </tr>\n",
              "    <tr>\n",
              "      <th>3108588</th>\n",
              "      <td>prior</td>\n",
              "      <td>8</td>\n",
              "      <td>1</td>\n",
              "      <td>14</td>\n",
              "      <td>14.0</td>\n",
              "    </tr>\n",
              "    <tr>\n",
              "      <th>2295261</th>\n",
              "      <td>prior</td>\n",
              "      <td>9</td>\n",
              "      <td>1</td>\n",
              "      <td>16</td>\n",
              "      <td>0.0</td>\n",
              "    </tr>\n",
              "    <tr>\n",
              "      <th>2550362</th>\n",
              "      <td>prior</td>\n",
              "      <td>10</td>\n",
              "      <td>4</td>\n",
              "      <td>8</td>\n",
              "      <td>30.0</td>\n",
              "    </tr>\n",
              "  </tbody>\n",
              "</table>\n",
              "</div>"
            ],
            "text/plain": [
              "                 eval_set  ...  days_since_prior_order\n",
              "user_id order_id           ...                        \n",
              "1       2539329     prior  ...                     NaN\n",
              "        2398795     prior  ...                    15.0\n",
              "        473747      prior  ...                    21.0\n",
              "        2254736     prior  ...                    29.0\n",
              "        431534      prior  ...                    28.0\n",
              "        3367565     prior  ...                    19.0\n",
              "        550135      prior  ...                    20.0\n",
              "        3108588     prior  ...                    14.0\n",
              "        2295261     prior  ...                     0.0\n",
              "        2550362     prior  ...                    30.0\n",
              "\n",
              "[10 rows x 5 columns]"
            ]
          },
          "metadata": {
            "tags": []
          },
          "execution_count": 10
        }
      ]
    },
    {
      "cell_type": "code",
      "metadata": {
        "id": "nBiGP2a_Y19l",
        "colab_type": "code",
        "colab": {}
      },
      "source": [
        ""
      ],
      "execution_count": 0,
      "outputs": []
    },
    {
      "cell_type": "code",
      "metadata": {
        "id": "C2oHhVmQF6K8",
        "colab_type": "code",
        "colab": {}
      },
      "source": [
        ""
      ],
      "execution_count": 0,
      "outputs": []
    },
    {
      "cell_type": "markdown",
      "metadata": {
        "id": "2iSgG7iaY19p",
        "colab_type": "text"
      },
      "source": [
        "Combining train and prior data frames."
      ]
    },
    {
      "cell_type": "code",
      "metadata": {
        "scrolled": true,
        "id": "RkqNq0smY19r",
        "colab_type": "code",
        "colab": {
          "base_uri": "https://localhost:8080/",
          "height": 237
        },
        "outputId": "8062c4b1-3613-46f3-be41-0fbb74703398"
      },
      "source": [
        "# train and prior contain the same type of data. We combine these two for analysis.\n",
        "combine = pd.concat([prior, train])\n",
        "combine.head()"
      ],
      "execution_count": 11,
      "outputs": [
        {
          "output_type": "execute_result",
          "data": {
            "text/html": [
              "<div>\n",
              "<style scoped>\n",
              "    .dataframe tbody tr th:only-of-type {\n",
              "        vertical-align: middle;\n",
              "    }\n",
              "\n",
              "    .dataframe tbody tr th {\n",
              "        vertical-align: top;\n",
              "    }\n",
              "\n",
              "    .dataframe thead th {\n",
              "        text-align: right;\n",
              "    }\n",
              "</style>\n",
              "<table border=\"1\" class=\"dataframe\">\n",
              "  <thead>\n",
              "    <tr style=\"text-align: right;\">\n",
              "      <th></th>\n",
              "      <th></th>\n",
              "      <th>add_to_cart_order</th>\n",
              "      <th>reordered</th>\n",
              "    </tr>\n",
              "    <tr>\n",
              "      <th>order_id</th>\n",
              "      <th>product_id</th>\n",
              "      <th></th>\n",
              "      <th></th>\n",
              "    </tr>\n",
              "  </thead>\n",
              "  <tbody>\n",
              "    <tr>\n",
              "      <th rowspan=\"5\" valign=\"top\">2</th>\n",
              "      <th>33120</th>\n",
              "      <td>1</td>\n",
              "      <td>1</td>\n",
              "    </tr>\n",
              "    <tr>\n",
              "      <th>28985</th>\n",
              "      <td>2</td>\n",
              "      <td>1</td>\n",
              "    </tr>\n",
              "    <tr>\n",
              "      <th>9327</th>\n",
              "      <td>3</td>\n",
              "      <td>0</td>\n",
              "    </tr>\n",
              "    <tr>\n",
              "      <th>45918</th>\n",
              "      <td>4</td>\n",
              "      <td>1</td>\n",
              "    </tr>\n",
              "    <tr>\n",
              "      <th>30035</th>\n",
              "      <td>5</td>\n",
              "      <td>0</td>\n",
              "    </tr>\n",
              "  </tbody>\n",
              "</table>\n",
              "</div>"
            ],
            "text/plain": [
              "                     add_to_cart_order  reordered\n",
              "order_id product_id                              \n",
              "2        33120                       1          1\n",
              "         28985                       2          1\n",
              "         9327                        3          0\n",
              "         45918                       4          1\n",
              "         30035                       5          0"
            ]
          },
          "metadata": {
            "tags": []
          },
          "execution_count": 11
        }
      ]
    },
    {
      "cell_type": "code",
      "metadata": {
        "id": "YqdDizIIY19z",
        "colab_type": "code",
        "colab": {}
      },
      "source": [
        ""
      ],
      "execution_count": 0,
      "outputs": []
    },
    {
      "cell_type": "code",
      "metadata": {
        "id": "-Te-Td_ZY194",
        "colab_type": "code",
        "colab": {}
      },
      "source": [
        ""
      ],
      "execution_count": 0,
      "outputs": []
    },
    {
      "cell_type": "markdown",
      "metadata": {
        "id": "ncDgM3M5Y198",
        "colab_type": "text"
      },
      "source": [
        "We visualize the data."
      ]
    },
    {
      "cell_type": "code",
      "metadata": {
        "scrolled": true,
        "id": "NAlUpT1cY19-",
        "colab_type": "code",
        "colab": {
          "base_uri": "https://localhost:8080/",
          "height": 298
        },
        "outputId": "2ca311a6-5401-4656-c4a4-9c9b5dee74ef"
      },
      "source": [
        "# Visualizing orders by day.\n",
        "fgroupped_day = orders.groupby('order_dow')['order_number'].count().plot(kind='bar', title='Orders pey day of week')\n",
        "\n"
      ],
      "execution_count": 14,
      "outputs": [
        {
          "output_type": "display_data",
          "data": {
            "image/png": "[encoded data removed]",
            "text/plain": [
              "<Figure size 432x288 with 1 Axes>"
            ]
          },
          "metadata": {
            "tags": []
          }
        }
      ]
    },
    {
      "cell_type": "markdown",
      "metadata": {
        "id": "WxlklFI7Y1-F",
        "colab_type": "text"
      },
      "source": [
        "We check to see data in hourly categories."
      ]
    },
    {
      "cell_type": "code",
      "metadata": {
        "scrolled": true,
        "id": "upIdnkxkY1-G",
        "colab_type": "code",
        "colab": {
          "base_uri": "https://localhost:8080/",
          "height": 323
        },
        "outputId": "488cdd3d-20b7-4e02-d51b-d13d85a9f0b0"
      },
      "source": [
        "#graphing dayly activities per hour.\n",
        "orders.groupby('order_hour_of_day').count().plot(kind='bar', y='user_id', title='number of orders in each hour of day')"
      ],
      "execution_count": 26,
      "outputs": [
        {
          "output_type": "execute_result",
          "data": {
            "text/plain": [
              "<matplotlib.axes._subplots.AxesSubplot at 0x7fc29af2c358>"
            ]
          },
          "metadata": {
            "tags": []
          },
          "execution_count": 26
        },
        {
          "output_type": "display_data",
          "data": {
            "image/png": "[encoded data removed]",
            "text/plain": [
              "<Figure size 432x288 with 1 Axes>"
            ]
          },
          "metadata": {
            "tags": []
          }
        }
      ]
    },
    {
      "cell_type": "markdown",
      "metadata": {
        "id": "pqh54erGY1-M",
        "colab_type": "text"
      },
      "source": [
        " We visualize data for inspection.\n",
        " \n",
        " We see that all orders for 30 days or more are aggregated into a single column."
      ]
    },
    {
      "cell_type": "code",
      "metadata": {
        "scrolled": true,
        "id": "58NN5RLPY1-O",
        "colab_type": "code",
        "colab": {
          "base_uri": "https://localhost:8080/",
          "height": 335
        },
        "outputId": "a8fa7138-e6ff-4ac2-eb32-a2cc5c2a27e9"
      },
      "source": [
        "#grouping ordres according to days since prior order\n",
        "orders.groupby('days_since_prior_order').count().plot(kind='bar', rot=60\n",
        "                                                         , y='user_id', title='Number of customeres frequency ordering')"
      ],
      "execution_count": 27,
      "outputs": [
        {
          "output_type": "execute_result",
          "data": {
            "text/plain": [
              "<matplotlib.axes._subplots.AxesSubplot at 0x7fc298694ac8>"
            ]
          },
          "metadata": {
            "tags": []
          },
          "execution_count": 27
        },
        {
          "output_type": "display_data",
          "data": {
            "image/png": "[encoded data removed]",
            "text/plain": [
              "<Figure size 432x288 with 1 Axes>"
            ]
          },
          "metadata": {
            "tags": []
          }
        }
      ]
    },
    {
      "cell_type": "markdown",
      "metadata": {
        "id": "gJyGlJwzY1-W",
        "colab_type": "text"
      },
      "source": [
        "We cannot work on pattern where the days are 30 or more, because all orders are aggregated. We are separating these orders from set."
      ]
    },
    {
      "cell_type": "code",
      "metadata": {
        "scrolled": true,
        "id": "0OaMluhUY1-Y",
        "colab_type": "code",
        "colab": {},
        "outputId": "4cf38c62-349d-429d-e03c-29111baad4c5"
      },
      "source": [
        "# dropping all observation where days since prior order is 30.\n",
        "orders_29 = orders.loc[orders['days_since_prior_order'] < 30]\n",
        "orders_30 = orders.loc[orders['days_since_prior_order']>=30]\n",
        "orders_29.groupby('days_since_prior_order').count().plot(kind='bar',rot=60, y='user_id')"
      ],
      "execution_count": 0,
      "outputs": [
        {
          "output_type": "execute_result",
          "data": {
            "text/plain": [
              "<matplotlib.axes._subplots.AxesSubplot at 0xb049f0>"
            ]
          },
          "metadata": {
            "tags": []
          },
          "execution_count": 24
        },
        {
          "output_type": "display_data",
          "data": {
            "image/png": "[encoded data removed]",
            "text/plain": [
              "<Figure size 432x288 with 1 Axes>"
            ]
          },
          "metadata": {
            "tags": []
          }
        }
      ]
    },
    {
      "cell_type": "markdown",
      "metadata": {
        "id": "KLJ2Ma4OY1-d",
        "colab_type": "text"
      },
      "source": [
        "We save orders in two separate files for further processing: orders_29.csv and orders_30.csv. \n",
        "\n",
        "The first file contains all data for orders that are reordes 29 days or less after a prior order. \n",
        "\n",
        "The other file contains all orders that are 30 days or more after the previous order."
      ]
    },
    {
      "cell_type": "code",
      "metadata": {
        "id": "8ytK6DCBY1-e",
        "colab_type": "code",
        "colab": {}
      },
      "source": [
        "# saving the separated data in two files for processing\n",
        "# orders_29.csv and orders_30.csv\n",
        "fp_orders_29.to_csv('orders_29.csv')\n",
        "fp_orders_30.to_csv('orders_30.csv')\n"
      ],
      "execution_count": 0,
      "outputs": []
    },
    {
      "cell_type": "markdown",
      "metadata": {
        "id": "n-FxHDOwY1-m",
        "colab_type": "text"
      },
      "source": [
        "We investigate relationship between days sinse prior order and number of items purchased. We use trunkated file, because 30 days is an agregate that contains 30 or more days."
      ]
    },
    {
      "cell_type": "code",
      "metadata": {
        "id": "vWHyNnmIY1-n",
        "colab_type": "code",
        "colab": {},
        "outputId": "a494c535-0c3d-48ce-e896-3f617c1a1606"
      },
      "source": [
        "str_orders = 'orders_p29.csv'\n",
        "orders_p29 = pd.read_csv(str_orders, index_col='order_id')\n",
        "orders_p29.info()\n"
      ],
      "execution_count": 0,
      "outputs": [
        {
          "output_type": "stream",
          "text": [
            "<class 'pandas.core.frame.DataFrame'>\n",
            "Int64Index: 2702528 entries, 2398795 to 2977660\n",
            "Data columns (total 5 columns):\n",
            "user_id                   int64\n",
            "order_number              int64\n",
            "order_dow                 int64\n",
            "order_hour_of_day         int64\n",
            "days_since_prior_order    float64\n",
            "dtypes: float64(1), int64(4)\n",
            "memory usage: 123.7 MB\n"
          ],
          "name": "stdout"
        }
      ]
    },
    {
      "cell_type": "code",
      "metadata": {
        "id": "7_Ga-r8NY1-r",
        "colab_type": "code",
        "colab": {}
      },
      "source": [
        "last_item = combine.groupby('order_id').count()['add_to_cart_order']\n"
      ],
      "execution_count": 0,
      "outputs": []
    },
    {
      "cell_type": "code",
      "metadata": {
        "id": "9C_3top3Y1-w",
        "colab_type": "code",
        "colab": {
          "base_uri": "https://localhost:8080/",
          "height": 292
        },
        "outputId": "868a8ab9-6e06-4ca4-f340-0c7a914c7dd7"
      },
      "source": [
        "# distribution of how many items in basket. Skewed right.\n",
        "last_item.plot(kind='box',label='Number of items in basket', )"
      ],
      "execution_count": 66,
      "outputs": [
        {
          "output_type": "execute_result",
          "data": {
            "text/plain": [
              "<matplotlib.axes._subplots.AxesSubplot at 0x7fc296a24908>"
            ]
          },
          "metadata": {
            "tags": []
          },
          "execution_count": 66
        },
        {
          "output_type": "display_data",
          "data": {
            "image/png": "[encoded data removed]",
            "text/plain": [
              "<Figure size 432x288 with 1 Axes>"
            ]
          },
          "metadata": {
            "tags": []
          }
        }
      ]
    },
    {
      "cell_type": "code",
      "metadata": {
        "id": "oHA5JaxDY1--",
        "colab_type": "code",
        "colab": {}
      },
      "source": [
        ""
      ],
      "execution_count": 0,
      "outputs": []
    },
    {
      "cell_type": "code",
      "metadata": {
        "id": "v4XUKAcTY1_B",
        "colab_type": "code",
        "colab": {}
      },
      "source": [
        ""
      ],
      "execution_count": 0,
      "outputs": []
    },
    {
      "cell_type": "code",
      "metadata": {
        "id": "H0qVa7pZY1_I",
        "colab_type": "code",
        "colab": {
          "base_uri": "https://localhost:8080/",
          "height": 181
        },
        "outputId": "ba27fe2e-ac0f-4069-c155-51ec8d3a88d2"
      },
      "source": [
        "last_item.describe()"
      ],
      "execution_count": 67,
      "outputs": [
        {
          "output_type": "execute_result",
          "data": {
            "text/plain": [
              "count    3.346083e+06\n",
              "mean     1.010707e+01\n",
              "std      7.542326e+00\n",
              "min      1.000000e+00\n",
              "25%      5.000000e+00\n",
              "50%      8.000000e+00\n",
              "75%      1.400000e+01\n",
              "max      1.450000e+02\n",
              "Name: add_to_cart_order, dtype: float64"
            ]
          },
          "metadata": {
            "tags": []
          },
          "execution_count": 67
        }
      ]
    },
    {
      "cell_type": "markdown",
      "metadata": {
        "id": "ju0rguR5Y1_L",
        "colab_type": "text"
      },
      "source": [
        "We separate all outliers above from the table. We take out all items that are more than 3 sdandard deviation from the mean:\n",
        "Upper bound = 10.07 + 3*7.51 = 32.6."
      ]
    },
    {
      "cell_type": "code",
      "metadata": {
        "id": "V2_9u68VY1_M",
        "colab_type": "code",
        "colab": {
          "base_uri": "https://localhost:8080/",
          "height": 181
        },
        "outputId": "990967c3-b7b4-4b84-e62e-6a4b5d1cda98"
      },
      "source": [
        "# separate all upper outliers\n",
        "high_orders = last_item.loc[last_item > 32]\n",
        "high_orders.describe()\n"
      ],
      "execution_count": 68,
      "outputs": [
        {
          "output_type": "execute_result",
          "data": {
            "text/plain": [
              "count    50573.000000\n",
              "mean        39.036423\n",
              "std          6.985325\n",
              "min         33.000000\n",
              "25%         34.000000\n",
              "50%         37.000000\n",
              "75%         41.000000\n",
              "max        145.000000\n",
              "Name: add_to_cart_order, dtype: float64"
            ]
          },
          "metadata": {
            "tags": []
          },
          "execution_count": 68
        }
      ]
    },
    {
      "cell_type": "code",
      "metadata": {
        "id": "UHNLHSlBY1_S",
        "colab_type": "code",
        "colab": {
          "base_uri": "https://localhost:8080/",
          "height": 292
        },
        "outputId": "66c37c9c-bf39-4f1a-a1c0-7ab87ded75df"
      },
      "source": [
        "high_orders.plot(kind='box', label='Items in basket for high volume orders')"
      ],
      "execution_count": 69,
      "outputs": [
        {
          "output_type": "execute_result",
          "data": {
            "text/plain": [
              "<matplotlib.axes._subplots.AxesSubplot at 0x7fc27da47a90>"
            ]
          },
          "metadata": {
            "tags": []
          },
          "execution_count": 69
        },
        {
          "output_type": "display_data",
          "data": {
            "image/png": "[encoded data removed]",
            "text/plain": [
              "<Figure size 432x288 with 1 Axes>"
            ]
          },
          "metadata": {
            "tags": []
          }
        }
      ]
    },
    {
      "cell_type": "code",
      "metadata": {
        "id": "9idV8R82Y1_X",
        "colab_type": "code",
        "colab": {}
      },
      "source": [
        ""
      ],
      "execution_count": 0,
      "outputs": []
    },
    {
      "cell_type": "code",
      "metadata": {
        "id": "Xij8WcI4Y1_a",
        "colab_type": "code",
        "colab": {}
      },
      "source": [
        ""
      ],
      "execution_count": 0,
      "outputs": []
    },
    {
      "cell_type": "markdown",
      "metadata": {
        "id": "Huo2iuI5Y1_d",
        "colab_type": "text"
      },
      "source": [
        "We look for the outliers for the high volume order, using the bound\n",
        "39 + 3*7 = 60."
      ]
    },
    {
      "cell_type": "code",
      "metadata": {
        "id": "Zy6t1nMyY1_e",
        "colab_type": "code",
        "colab": {
          "base_uri": "https://localhost:8080/",
          "height": 144
        },
        "outputId": "8ada757d-3d3a-44ed-826f-22595adf2b55"
      },
      "source": [
        "high_orders.loc[high_orders>60].sort_values().head()"
      ],
      "execution_count": 50,
      "outputs": [
        {
          "output_type": "execute_result",
          "data": {
            "text/plain": [
              "order_id\n",
              "1171       61\n",
              "1573104    61\n",
              "446779     61\n",
              "1507354    61\n",
              "2504623    61\n",
              "Name: add_to_cart_order, dtype: int64"
            ]
          },
          "metadata": {
            "tags": []
          },
          "execution_count": 50
        }
      ]
    },
    {
      "cell_type": "code",
      "metadata": {
        "id": "2k_m3oFHY1_h",
        "colab_type": "code",
        "colab": {}
      },
      "source": [
        ""
      ],
      "execution_count": 0,
      "outputs": []
    },
    {
      "cell_type": "code",
      "metadata": {
        "id": "pm6p-h77Y1_j",
        "colab_type": "code",
        "colab": {}
      },
      "source": [
        ""
      ],
      "execution_count": 0,
      "outputs": []
    },
    {
      "cell_type": "markdown",
      "metadata": {
        "id": "h-zJMmFKY1_p",
        "colab_type": "text"
      },
      "source": [
        "What percent are the high order items compared to all items ordered?"
      ]
    },
    {
      "cell_type": "code",
      "metadata": {
        "id": "V1qWiviIY1_q",
        "colab_type": "code",
        "colab": {
          "base_uri": "https://localhost:8080/",
          "height": 53
        },
        "outputId": "f5402eb6-b23b-4885-9e90-9e44e3769071"
      },
      "source": [
        "percent_high_items = high_orders.sum()/last_item.sum()\n",
        "percent_of_hig = high_orders.count()/last_item.count()\n",
        "print('The high orders are ' + str(percent_of_hig) + '% from all orders,')\n",
        "print('but they account for '+ str(percent_high_items) + '% from all items.')"
      ],
      "execution_count": 70,
      "outputs": [
        {
          "output_type": "stream",
          "text": [
            "The high orders are 0.015114090116712586% from all orders,\n",
            "but they account for 0.05837496118318444% from all items.\n"
          ],
          "name": "stdout"
        }
      ]
    },
    {
      "cell_type": "code",
      "metadata": {
        "id": "Ea2_eqAYY1_t",
        "colab_type": "code",
        "colab": {},
        "outputId": "35dcc9fe-909e-4498-a0bf-72fc08df2d00"
      },
      "source": [
        "# distribution of number of items in a basket for all orders made prior to 30 days.\n",
        "orders_p29.plot(kind='hist', y='items_in_basket', bins=100)"
      ],
      "execution_count": 0,
      "outputs": [
        {
          "output_type": "execute_result",
          "data": {
            "text/plain": [
              "<matplotlib.axes._subplots.AxesSubplot at 0xb1f3450>"
            ]
          },
          "metadata": {
            "tags": []
          },
          "execution_count": 26
        },
        {
          "output_type": "display_data",
          "data": {
            "image/png": "[encoded data removed]",
            "text/plain": [
              "<Figure size 432x288 with 1 Axes>"
            ]
          },
          "metadata": {
            "tags": [],
            "needs_background": "light"
          }
        }
      ]
    },
    {
      "cell_type": "code",
      "metadata": {
        "id": "b-74JQ5bY1_x",
        "colab_type": "code",
        "colab": {},
        "outputId": "8ed3a01a-3042-4ab4-a669-242d4aa5f94e"
      },
      "source": [
        "# create seaborn historgram\n",
        "sns.distplot(orders_p29['items_in_basket'], kde=False, bins=100)"
      ],
      "execution_count": 0,
      "outputs": [
        {
          "output_type": "execute_result",
          "data": {
            "text/plain": [
              "<matplotlib.axes._subplots.AxesSubplot at 0xd64def0>"
            ]
          },
          "metadata": {
            "tags": []
          },
          "execution_count": 30
        },
        {
          "output_type": "display_data",
          "data": {
            "image/png": "[encoded data removed]",
            "text/plain": [
              "<Figure size 432x288 with 1 Axes>"
            ]
          },
          "metadata": {
            "tags": [],
            "needs_background": "light"
          }
        }
      ]
    },
    {
      "cell_type": "code",
      "metadata": {
        "id": "SAgZ2pTpY1_6",
        "colab_type": "code",
        "colab": {},
        "outputId": "12c73426-4686-4b16-c89f-d25302f04047"
      },
      "source": [
        "# distribution of number of items ordered when order comes no less than 30 days after prior order. \n",
        "str_orders = 'orders_p30.csv'\n",
        "orders_p30 = pd.read_csv(str_orders, index_col='order_id')\n",
        "orders_p30['items_in_basket'] = last_item\n",
        "orders_p30.plot(kind='hist', y='items_in_basket',bins=100)"
      ],
      "execution_count": 0,
      "outputs": [
        {
          "output_type": "execute_result",
          "data": {
            "text/plain": [
              "<matplotlib.axes._subplots.AxesSubplot at 0x13027d0>"
            ]
          },
          "metadata": {
            "tags": []
          },
          "execution_count": 21
        },
        {
          "output_type": "display_data",
          "data": {
            "image/png": "[encoded data removed]",
            "text/plain": [
              "<Figure size 432x288 with 1 Axes>"
            ]
          },
          "metadata": {
            "tags": [],
            "needs_background": "light"
          }
        }
      ]
    },
    {
      "cell_type": "code",
      "metadata": {
        "id": "I5OEf6X2Y1__",
        "colab_type": "code",
        "colab": {},
        "outputId": "044621a8-25f4-4181-9a06-03cc2305c518"
      },
      "source": [
        "# low orders 30 distribution\n",
        "low_orders = orders_p30.loc[ (orders_p30['items_in_basket'] < 21)]\n",
        "low_orders.plot(kind='hist', y='items_in_basket',bins=20)\n",
        "low_orders.info()"
      ],
      "execution_count": 0,
      "outputs": [
        {
          "output_type": "stream",
          "text": [
            "<class 'pandas.core.frame.DataFrame'>\n",
            "Int64Index: 42353 entries, 144358 to 85132\n",
            "Data columns (total 6 columns):\n",
            "user_id                   42353 non-null int64\n",
            "order_number              42353 non-null int64\n",
            "order_dow                 42353 non-null int64\n",
            "order_hour_of_day         42353 non-null int64\n",
            "days_since_prior_order    42353 non-null float64\n",
            "items_in_basket           42353 non-null float64\n",
            "dtypes: float64(2), int64(4)\n",
            "memory usage: 2.3 MB\n"
          ],
          "name": "stdout"
        },
        {
          "output_type": "display_data",
          "data": {
            "image/png": "[encoded data removed]",
            "text/plain": [
              "<Figure size 432x288 with 1 Axes>"
            ]
          },
          "metadata": {
            "tags": [],
            "needs_background": "light"
          }
        }
      ]
    },
    {
      "cell_type": "markdown",
      "metadata": {
        "id": "R7lOsw-NY2AD",
        "colab_type": "text"
      },
      "source": [
        "The frequency distribution table below confirms there are no gaps in distribution as shown above."
      ]
    },
    {
      "cell_type": "code",
      "metadata": {
        "id": "Kjir_CveY2AF",
        "colab_type": "code",
        "colab": {}
      },
      "source": [
        "# check frequency distribution from main graph above.\n",
        "# remove # to see output.\n",
        "freq_dist = pd.Series(orders_p30['items_in_basket'])\n",
        "#freq_dist.value_counts(ascending = True) "
      ],
      "execution_count": 0,
      "outputs": []
    },
    {
      "cell_type": "code",
      "metadata": {
        "id": "CJZL1mCeY2AV",
        "colab_type": "code",
        "colab": {}
      },
      "source": [
        "# grouping orders per user.\n",
        "# we may need the full set of rows from order-product-prior. \n",
        "orders_p = pd.read_csv('orders_p.csv')\n",
        "orders_p['items_in_basket'] = last_item\n",
        "# %whos"
      ],
      "execution_count": 0,
      "outputs": []
    },
    {
      "cell_type": "code",
      "metadata": {
        "id": "z7U5fGzwY2Ab",
        "colab_type": "code",
        "colab": {}
      },
      "source": [
        "# ???\n",
        "group_byuser = orders_p.groupby('user_id')['items_in_basket']\n"
      ],
      "execution_count": 0,
      "outputs": []
    },
    {
      "cell_type": "code",
      "metadata": {
        "id": "yHeVEihyY2Ag",
        "colab_type": "code",
        "colab": {}
      },
      "source": [
        ""
      ],
      "execution_count": 0,
      "outputs": []
    },
    {
      "cell_type": "code",
      "metadata": {
        "id": "U-cmMB7uY2Al",
        "colab_type": "code",
        "colab": {}
      },
      "source": [
        ""
      ],
      "execution_count": 0,
      "outputs": []
    },
    {
      "cell_type": "code",
      "metadata": {
        "id": "9R_gkExeY2Ap",
        "colab_type": "code",
        "colab": {
          "base_uri": "https://localhost:8080/",
          "height": 1000
        },
        "outputId": "756686ee-351c-4c0b-d1bf-38311a9322a5"
      },
      "source": [
        "# most common orders\n",
        "most_products = prior.groupby('product_id').count()['reordered']\n",
        "most_reorders = prior.groupby('product_id').sum()['reordered']\n",
        "\n",
        "most_products = pd.merge(left=most_products, right=most_reorders, left_on='product_id', right_on='product_id')\n",
        "most_products = pd.merge(left=prod['product_name'], right=most_products, left_on='product_id', right_on='product_id')\n",
        "\n",
        "most_products.sort_values('reordered_x', inplace=True, ascending=False)\n",
        "most_products.head(30)"
      ],
      "execution_count": 71,
      "outputs": [
        {
          "output_type": "execute_result",
          "data": {
            "text/html": [
              "<div>\n",
              "<style scoped>\n",
              "    .dataframe tbody tr th:only-of-type {\n",
              "        vertical-align: middle;\n",
              "    }\n",
              "\n",
              "    .dataframe tbody tr th {\n",
              "        vertical-align: top;\n",
              "    }\n",
              "\n",
              "    .dataframe thead th {\n",
              "        text-align: right;\n",
              "    }\n",
              "</style>\n",
              "<table border=\"1\" class=\"dataframe\">\n",
              "  <thead>\n",
              "    <tr style=\"text-align: right;\">\n",
              "      <th></th>\n",
              "      <th>product_name</th>\n",
              "      <th>reordered_x</th>\n",
              "      <th>reordered_y</th>\n",
              "    </tr>\n",
              "    <tr>\n",
              "      <th>product_id</th>\n",
              "      <th></th>\n",
              "      <th></th>\n",
              "      <th></th>\n",
              "    </tr>\n",
              "  </thead>\n",
              "  <tbody>\n",
              "    <tr>\n",
              "      <th>24852</th>\n",
              "      <td>Banana</td>\n",
              "      <td>472565</td>\n",
              "      <td>398609</td>\n",
              "    </tr>\n",
              "    <tr>\n",
              "      <th>13176</th>\n",
              "      <td>Bag of Organic Bananas</td>\n",
              "      <td>379450</td>\n",
              "      <td>315913</td>\n",
              "    </tr>\n",
              "    <tr>\n",
              "      <th>21137</th>\n",
              "      <td>Organic Strawberries</td>\n",
              "      <td>264683</td>\n",
              "      <td>205845</td>\n",
              "    </tr>\n",
              "    <tr>\n",
              "      <th>21903</th>\n",
              "      <td>Organic Baby Spinach</td>\n",
              "      <td>241921</td>\n",
              "      <td>186884</td>\n",
              "    </tr>\n",
              "    <tr>\n",
              "      <th>47209</th>\n",
              "      <td>Organic Hass Avocado</td>\n",
              "      <td>213584</td>\n",
              "      <td>170131</td>\n",
              "    </tr>\n",
              "    <tr>\n",
              "      <th>47766</th>\n",
              "      <td>Organic Avocado</td>\n",
              "      <td>176815</td>\n",
              "      <td>134044</td>\n",
              "    </tr>\n",
              "    <tr>\n",
              "      <th>47626</th>\n",
              "      <td>Large Lemon</td>\n",
              "      <td>152657</td>\n",
              "      <td>106255</td>\n",
              "    </tr>\n",
              "    <tr>\n",
              "      <th>16797</th>\n",
              "      <td>Strawberries</td>\n",
              "      <td>142951</td>\n",
              "      <td>99802</td>\n",
              "    </tr>\n",
              "    <tr>\n",
              "      <th>26209</th>\n",
              "      <td>Limes</td>\n",
              "      <td>140627</td>\n",
              "      <td>95768</td>\n",
              "    </tr>\n",
              "    <tr>\n",
              "      <th>27845</th>\n",
              "      <td>Organic Whole Milk</td>\n",
              "      <td>137905</td>\n",
              "      <td>114510</td>\n",
              "    </tr>\n",
              "    <tr>\n",
              "      <th>27966</th>\n",
              "      <td>Organic Raspberries</td>\n",
              "      <td>137057</td>\n",
              "      <td>105409</td>\n",
              "    </tr>\n",
              "    <tr>\n",
              "      <th>22935</th>\n",
              "      <td>Organic Yellow Onion</td>\n",
              "      <td>113426</td>\n",
              "      <td>79072</td>\n",
              "    </tr>\n",
              "    <tr>\n",
              "      <th>24964</th>\n",
              "      <td>Organic Garlic</td>\n",
              "      <td>109778</td>\n",
              "      <td>74663</td>\n",
              "    </tr>\n",
              "    <tr>\n",
              "      <th>45007</th>\n",
              "      <td>Organic Zucchini</td>\n",
              "      <td>104823</td>\n",
              "      <td>72165</td>\n",
              "    </tr>\n",
              "    <tr>\n",
              "      <th>39275</th>\n",
              "      <td>Organic Blueberries</td>\n",
              "      <td>100060</td>\n",
              "      <td>62922</td>\n",
              "    </tr>\n",
              "    <tr>\n",
              "      <th>49683</th>\n",
              "      <td>Cucumber Kirby</td>\n",
              "      <td>97315</td>\n",
              "      <td>67313</td>\n",
              "    </tr>\n",
              "    <tr>\n",
              "      <th>28204</th>\n",
              "      <td>Organic Fuji Apple</td>\n",
              "      <td>89632</td>\n",
              "      <td>63811</td>\n",
              "    </tr>\n",
              "    <tr>\n",
              "      <th>5876</th>\n",
              "      <td>Organic Lemon</td>\n",
              "      <td>87746</td>\n",
              "      <td>60536</td>\n",
              "    </tr>\n",
              "    <tr>\n",
              "      <th>8277</th>\n",
              "      <td>Apple Honeycrisp Organic</td>\n",
              "      <td>85020</td>\n",
              "      <td>62510</td>\n",
              "    </tr>\n",
              "    <tr>\n",
              "      <th>40706</th>\n",
              "      <td>Organic Grape Tomatoes</td>\n",
              "      <td>84255</td>\n",
              "      <td>55230</td>\n",
              "    </tr>\n",
              "    <tr>\n",
              "      <th>4920</th>\n",
              "      <td>Seedless Red Grapes</td>\n",
              "      <td>82689</td>\n",
              "      <td>55177</td>\n",
              "    </tr>\n",
              "    <tr>\n",
              "      <th>30391</th>\n",
              "      <td>Organic Cucumber</td>\n",
              "      <td>80392</td>\n",
              "      <td>56051</td>\n",
              "    </tr>\n",
              "    <tr>\n",
              "      <th>45066</th>\n",
              "      <td>Honeycrisp Apple</td>\n",
              "      <td>79769</td>\n",
              "      <td>57818</td>\n",
              "    </tr>\n",
              "    <tr>\n",
              "      <th>42265</th>\n",
              "      <td>Organic Baby Carrots</td>\n",
              "      <td>76896</td>\n",
              "      <td>50472</td>\n",
              "    </tr>\n",
              "    <tr>\n",
              "      <th>49235</th>\n",
              "      <td>Organic Half &amp; Half</td>\n",
              "      <td>76360</td>\n",
              "      <td>59672</td>\n",
              "    </tr>\n",
              "    <tr>\n",
              "      <th>44632</th>\n",
              "      <td>Sparkling Water Grapefruit</td>\n",
              "      <td>75886</td>\n",
              "      <td>58513</td>\n",
              "    </tr>\n",
              "    <tr>\n",
              "      <th>19057</th>\n",
              "      <td>Organic Large Extra Fancy Fuji Apple</td>\n",
              "      <td>75165</td>\n",
              "      <td>57201</td>\n",
              "    </tr>\n",
              "    <tr>\n",
              "      <th>4605</th>\n",
              "      <td>Yellow Onions</td>\n",
              "      <td>73167</td>\n",
              "      <td>43269</td>\n",
              "    </tr>\n",
              "    <tr>\n",
              "      <th>37646</th>\n",
              "      <td>Organic Gala Apples</td>\n",
              "      <td>72846</td>\n",
              "      <td>53406</td>\n",
              "    </tr>\n",
              "    <tr>\n",
              "      <th>21616</th>\n",
              "      <td>Organic Baby Arugula</td>\n",
              "      <td>72829</td>\n",
              "      <td>49798</td>\n",
              "    </tr>\n",
              "  </tbody>\n",
              "</table>\n",
              "</div>"
            ],
            "text/plain": [
              "                                    product_name  reordered_x  reordered_y\n",
              "product_id                                                                \n",
              "24852                                     Banana       472565       398609\n",
              "13176                     Bag of Organic Bananas       379450       315913\n",
              "21137                       Organic Strawberries       264683       205845\n",
              "21903                       Organic Baby Spinach       241921       186884\n",
              "47209                       Organic Hass Avocado       213584       170131\n",
              "47766                            Organic Avocado       176815       134044\n",
              "47626                                Large Lemon       152657       106255\n",
              "16797                               Strawberries       142951        99802\n",
              "26209                                      Limes       140627        95768\n",
              "27845                         Organic Whole Milk       137905       114510\n",
              "27966                        Organic Raspberries       137057       105409\n",
              "22935                       Organic Yellow Onion       113426        79072\n",
              "24964                             Organic Garlic       109778        74663\n",
              "45007                           Organic Zucchini       104823        72165\n",
              "39275                        Organic Blueberries       100060        62922\n",
              "49683                             Cucumber Kirby        97315        67313\n",
              "28204                         Organic Fuji Apple        89632        63811\n",
              "5876                               Organic Lemon        87746        60536\n",
              "8277                    Apple Honeycrisp Organic        85020        62510\n",
              "40706                     Organic Grape Tomatoes        84255        55230\n",
              "4920                         Seedless Red Grapes        82689        55177\n",
              "30391                           Organic Cucumber        80392        56051\n",
              "45066                           Honeycrisp Apple        79769        57818\n",
              "42265                       Organic Baby Carrots        76896        50472\n",
              "49235                        Organic Half & Half        76360        59672\n",
              "44632                 Sparkling Water Grapefruit        75886        58513\n",
              "19057       Organic Large Extra Fancy Fuji Apple        75165        57201\n",
              "4605                               Yellow Onions        73167        43269\n",
              "37646                        Organic Gala Apples        72846        53406\n",
              "21616                       Organic Baby Arugula        72829        49798"
            ]
          },
          "metadata": {
            "tags": []
          },
          "execution_count": 71
        }
      ]
    },
    {
      "cell_type": "code",
      "metadata": {
        "id": "pYQg7Q8tY2At",
        "colab_type": "code",
        "colab": {}
      },
      "source": [
        ""
      ],
      "execution_count": 0,
      "outputs": []
    },
    {
      "cell_type": "code",
      "metadata": {
        "id": "L-QZSRXTY2Ay",
        "colab_type": "code",
        "colab": {}
      },
      "source": [
        ""
      ],
      "execution_count": 0,
      "outputs": []
    },
    {
      "cell_type": "code",
      "metadata": {
        "id": "NToSwsiPY2A7",
        "colab_type": "code",
        "colab": {
          "base_uri": "https://localhost:8080/",
          "height": 292
        },
        "outputId": "3e35b7ac-dd6b-4ba5-c81a-0ca8cee81c39"
      },
      "source": [
        "# most ordered products box plot\n",
        "most_products.plot(kind='box', y='reordered_x', logy=True, label='Ordered products') # most commonly ordered products"
      ],
      "execution_count": 72,
      "outputs": [
        {
          "output_type": "execute_result",
          "data": {
            "text/plain": [
              "<matplotlib.axes._subplots.AxesSubplot at 0x7fc27d988f28>"
            ]
          },
          "metadata": {
            "tags": []
          },
          "execution_count": 72
        },
        {
          "output_type": "display_data",
          "data": {
            "image/png": "[encoded data removed]",
            "text/plain": [
              "<Figure size 432x288 with 1 Axes>"
            ]
          },
          "metadata": {
            "tags": []
          }
        }
      ]
    },
    {
      "cell_type": "code",
      "metadata": {
        "id": "2ccKjTajY2A-",
        "colab_type": "code",
        "colab": {
          "base_uri": "https://localhost:8080/",
          "height": 302
        },
        "outputId": "f8cb3156-d39f-4da8-f75e-efe2c5d1b7cb"
      },
      "source": [
        "# most reordered products\n",
        "most_products.plot(kind='box', y='reordered_y', logy=True, label='Reordered products', title='Most reordered products')"
      ],
      "execution_count": 73,
      "outputs": [
        {
          "output_type": "execute_result",
          "data": {
            "text/plain": [
              "<matplotlib.axes._subplots.AxesSubplot at 0x7fc27d7e3860>"
            ]
          },
          "metadata": {
            "tags": []
          },
          "execution_count": 73
        },
        {
          "output_type": "display_data",
          "data": {
            "image/png": "[encoded data removed]",
            "text/plain": [
              "<Figure size 432x288 with 1 Axes>"
            ]
          },
          "metadata": {
            "tags": []
          }
        }
      ]
    },
    {
      "cell_type": "code",
      "metadata": {
        "id": "WA4OeXEqY2BB",
        "colab_type": "code",
        "colab": {}
      },
      "source": [
        ""
      ],
      "execution_count": 0,
      "outputs": []
    },
    {
      "cell_type": "code",
      "metadata": {
        "id": "UTzjz4HxY2BC",
        "colab_type": "code",
        "colab": {
          "base_uri": "https://localhost:8080/",
          "height": 346
        },
        "outputId": "3e481aef-9fff-42a3-d0c7-b66d31fe9f52"
      },
      "source": [
        "# which product was ordered first\n",
        "ordered_first = prior.loc[prior.add_to_cart_order==1]\n",
        "ordered_first['product_name'] = prod['product_name']\n",
        "ordered_first.head()"
      ],
      "execution_count": 77,
      "outputs": [
        {
          "output_type": "stream",
          "text": [
            "/usr/local/lib/python3.6/dist-packages/ipykernel_launcher.py:2: SettingWithCopyWarning: \n",
            "A value is trying to be set on a copy of a slice from a DataFrame.\n",
            "Try using .loc[row_indexer,col_indexer] = value instead\n",
            "\n",
            "See the caveats in the documentation: http://pandas.pydata.org/pandas-docs/stable/indexing.html#indexing-view-versus-copy\n",
            "  \n"
          ],
          "name": "stderr"
        },
        {
          "output_type": "execute_result",
          "data": {
            "text/html": [
              "<div>\n",
              "<style scoped>\n",
              "    .dataframe tbody tr th:only-of-type {\n",
              "        vertical-align: middle;\n",
              "    }\n",
              "\n",
              "    .dataframe tbody tr th {\n",
              "        vertical-align: top;\n",
              "    }\n",
              "\n",
              "    .dataframe thead th {\n",
              "        text-align: right;\n",
              "    }\n",
              "</style>\n",
              "<table border=\"1\" class=\"dataframe\">\n",
              "  <thead>\n",
              "    <tr style=\"text-align: right;\">\n",
              "      <th></th>\n",
              "      <th></th>\n",
              "      <th>add_to_cart_order</th>\n",
              "      <th>reordered</th>\n",
              "      <th>product_name</th>\n",
              "    </tr>\n",
              "    <tr>\n",
              "      <th>order_id</th>\n",
              "      <th>product_id</th>\n",
              "      <th></th>\n",
              "      <th></th>\n",
              "      <th></th>\n",
              "    </tr>\n",
              "  </thead>\n",
              "  <tbody>\n",
              "    <tr>\n",
              "      <th>2</th>\n",
              "      <th>33120</th>\n",
              "      <td>1</td>\n",
              "      <td>1</td>\n",
              "      <td>NaN</td>\n",
              "    </tr>\n",
              "    <tr>\n",
              "      <th>3</th>\n",
              "      <th>33754</th>\n",
              "      <td>1</td>\n",
              "      <td>1</td>\n",
              "      <td>NaN</td>\n",
              "    </tr>\n",
              "    <tr>\n",
              "      <th>4</th>\n",
              "      <th>46842</th>\n",
              "      <td>1</td>\n",
              "      <td>0</td>\n",
              "      <td>NaN</td>\n",
              "    </tr>\n",
              "    <tr>\n",
              "      <th>5</th>\n",
              "      <th>13176</th>\n",
              "      <td>1</td>\n",
              "      <td>1</td>\n",
              "      <td>NaN</td>\n",
              "    </tr>\n",
              "    <tr>\n",
              "      <th>6</th>\n",
              "      <th>40462</th>\n",
              "      <td>1</td>\n",
              "      <td>0</td>\n",
              "      <td>NaN</td>\n",
              "    </tr>\n",
              "  </tbody>\n",
              "</table>\n",
              "</div>"
            ],
            "text/plain": [
              "                     add_to_cart_order  reordered product_name\n",
              "order_id product_id                                           \n",
              "2        33120                       1          1          NaN\n",
              "3        33754                       1          1          NaN\n",
              "4        46842                       1          0          NaN\n",
              "5        13176                       1          1          NaN\n",
              "6        40462                       1          0          NaN"
            ]
          },
          "metadata": {
            "tags": []
          },
          "execution_count": 77
        }
      ]
    },
    {
      "cell_type": "code",
      "metadata": {
        "scrolled": true,
        "id": "xhKmk79eY2BF",
        "colab_type": "code",
        "colab": {
          "base_uri": "https://localhost:8080/",
          "height": 347
        },
        "outputId": "84d88f97-b1ee-4fbd-d2e1-661f4127283d"
      },
      "source": [
        "# are more frequent items ordered first?\n",
        "# number of times an item is ordered, sorted\n",
        "frequency_count = prior.groupby('product_id').count()['add_to_cart_order'].sort_values(ascending=False)\n",
        "# summing add_to_cart_order to find average order value\n",
        "sum_add_to_order = prior.groupby('product_id')['add_to_cart_order'].sum()\n",
        "\n",
        "# merging the two data frames.\n",
        "frequency_count = pd.merge(left=frequency_count, right=sum_add_to_order, left_on='product_id', right_on='product_id')\n",
        "# new column - ave_order to show when on average in the list the item is ordered.\n",
        "frequency_count['ave_order'] = frequency_count['add_to_cart_order_y'] / frequency_count['add_to_cart_order_x']\n",
        "\n",
        "# plotting the ave_order.\n",
        "frequency_count.plot(kind='scatter', y='add_to_cart_order_y', x='ave_order')"
      ],
      "execution_count": 75,
      "outputs": [
        {
          "output_type": "stream",
          "text": [
            "'c' argument looks like a single numeric RGB or RGBA sequence, which should be avoided as value-mapping will have precedence in case its length matches with 'x' & 'y'.  Please use a 2-D array with a single row if you really want to specify the same RGB or RGBA value for all points.\n"
          ],
          "name": "stderr"
        },
        {
          "output_type": "execute_result",
          "data": {
            "text/plain": [
              "<matplotlib.axes._subplots.AxesSubplot at 0x7fc27d807780>"
            ]
          },
          "metadata": {
            "tags": []
          },
          "execution_count": 75
        },
        {
          "output_type": "display_data",
          "data": {
            "image/png": "[encoded data removed]",
            "text/plain": [
              "<Figure size 432x288 with 1 Axes>"
            ]
          },
          "metadata": {
            "tags": []
          }
        }
      ]
    },
    {
      "cell_type": "code",
      "metadata": {
        "id": "K7VcSxQmY2BH",
        "colab_type": "code",
        "colab": {
          "base_uri": "https://localhost:8080/",
          "height": 347
        },
        "outputId": "58bc1911-13a1-499b-d725-a0d8324ce08d"
      },
      "source": [
        "# plotting the top 50 and bottom 50 items from the graph above.\n",
        "freq_top = frequency_count.head(100)\n",
        "freq_bot = frequency_count.tail(100)\n",
        "\n",
        "# concatenating top and bottom parts to plot together.\n",
        "freq = pd.concat([freq_top, freq_bot], axis=0)\n",
        "freq.plot(kind='scatter', y='add_to_cart_order_y', x='ave_order')"
      ],
      "execution_count": 76,
      "outputs": [
        {
          "output_type": "stream",
          "text": [
            "'c' argument looks like a single numeric RGB or RGBA sequence, which should be avoided as value-mapping will have precedence in case its length matches with 'x' & 'y'.  Please use a 2-D array with a single row if you really want to specify the same RGB or RGBA value for all points.\n"
          ],
          "name": "stderr"
        },
        {
          "output_type": "execute_result",
          "data": {
            "text/plain": [
              "<matplotlib.axes._subplots.AxesSubplot at 0x7fc27d648978>"
            ]
          },
          "metadata": {
            "tags": []
          },
          "execution_count": 76
        },
        {
          "output_type": "display_data",
          "data": {
            "image/png": "[encoded data removed]",
            "text/plain": [
              "<Figure size 432x288 with 1 Axes>"
            ]
          },
          "metadata": {
            "tags": []
          }
        }
      ]
    },
    {
      "cell_type": "code",
      "metadata": {
        "id": "TNt8Z3fuCIC4",
        "colab_type": "code",
        "colab": {}
      },
      "source": [
        " "
      ],
      "execution_count": 0,
      "outputs": []
    },
    {
      "cell_type": "markdown",
      "metadata": {
        "id": "3w3W8x_NK-2m",
        "colab_type": "text"
      },
      "source": [
        "$  \\sqrt{\\hat{p} (1-\\hat{p}) \\left(\\frac{1}{n_1} +\\frac{1}{ n_2} \\right)} < \\left| \\hat{p}_1 - \\hat{p}_2 \\right|, $"
      ]
    }
  ]
}