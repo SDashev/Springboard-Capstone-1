{
 "cells": [
  {
   "cell_type": "markdown",
   "metadata": {},
   "source": [
    "This notebook contains exercises related to Capstone Project 1.\n",
    "\n",
    "Instacart data structure:\n",
    "   - orders: list of all orders in the dataset. 1 row per order, includes day of the week and time of the day;\n",
    "   - order_products train: which products (product_id) were ordered; in which order products were added to the cart, and if the product is re-order (1) or not (0);\n",
    "   - contain the names of products with their corresponding product_id;\n",
    "   - order_products prior: the structure is the same as order_product_train.csv;\n",
    "   - aisles contains the aisles;\n",
    "   - departments: contains the department names."
   ]
  },
  {
   "cell_type": "code",
   "execution_count": 20,
   "metadata": {},
   "outputs": [],
   "source": [
    "# We import the needed packages.\n",
    "import pandas as pd\n",
    "import numpy as np\n",
    "import matplotlib as plt\n",
    "%matplotlib inline\n",
    "import csv\n",
    "import seaborn as sns\n",
    "sns.set()"
   ]
  },
  {
   "cell_type": "code",
   "execution_count": 2,
   "metadata": {},
   "outputs": [],
   "source": [
    "# Execute if needed.\n",
    "# Strings to replace names of files run in online environment.\n",
    "str_isles = 'aisles.csv'\n",
    "str_dept = 'departments.csv'\n",
    "str_prod = 'products.csv'\n",
    "str_prod_train = 'order_products_train.csv'\n",
    "str_prod_prior = 'order_products_prior.csv'\n",
    "str_orders = 'orders.csv'"
   ]
  },
  {
   "cell_type": "code",
   "execution_count": 3,
   "metadata": {},
   "outputs": [],
   "source": [
    "# Execute if needed.\n",
    "# Strings for local machine runs\n",
    "str_isles = 'data/aisles.csv'\n",
    "str_dept = 'data/departments.csv'\n",
    "str_prod = 'data/products.csv'\n",
    "str_prod_train = 'data/order_products_train.csv'\n",
    "str_prod_prior = 'data/order_products_prior.csv'\n",
    "str_orders = 'data/orders.csv'"
   ]
  },
  {
   "cell_type": "markdown",
   "metadata": {},
   "source": [
    "We read the files for data and check them.\n",
    "\n",
    "For the isles, department frames, we change these into categories."
   ]
  },
  {
   "cell_type": "code",
   "execution_count": 4,
   "metadata": {
    "scrolled": true
   },
   "outputs": [
    {
     "name": "stdout",
     "output_type": "stream",
     "text": [
      "<class 'pandas.core.frame.DataFrame'>\n",
      "Int64Index: 134 entries, 1 to 134\n",
      "Data columns (total 1 columns):\n",
      "aisle    134 non-null object\n",
      "dtypes: object(1)\n",
      "memory usage: 1.6+ KB\n"
     ]
    }
   ],
   "source": [
    "# isles frame\n",
    "isles = pd.read_csv(str_isles, index_col='aisle_id')\n",
    "isles['aisle'].astype('category')\n",
    "isles.info()"
   ]
  },
  {
   "cell_type": "markdown",
   "metadata": {},
   "source": [
    "We change the type of the department data to category."
   ]
  },
  {
   "cell_type": "code",
   "execution_count": 5,
   "metadata": {
    "scrolled": true
   },
   "outputs": [
    {
     "data": {
      "text/html": [
       "<div>\n",
       "<style scoped>\n",
       "    .dataframe tbody tr th:only-of-type {\n",
       "        vertical-align: middle;\n",
       "    }\n",
       "\n",
       "    .dataframe tbody tr th {\n",
       "        vertical-align: top;\n",
       "    }\n",
       "\n",
       "    .dataframe thead th {\n",
       "        text-align: right;\n",
       "    }\n",
       "</style>\n",
       "<table border=\"1\" class=\"dataframe\">\n",
       "  <thead>\n",
       "    <tr style=\"text-align: right;\">\n",
       "      <th></th>\n",
       "      <th>department</th>\n",
       "    </tr>\n",
       "    <tr>\n",
       "      <th>department_id</th>\n",
       "      <th></th>\n",
       "    </tr>\n",
       "  </thead>\n",
       "  <tbody>\n",
       "    <tr>\n",
       "      <th>1</th>\n",
       "      <td>frozen</td>\n",
       "    </tr>\n",
       "    <tr>\n",
       "      <th>2</th>\n",
       "      <td>other</td>\n",
       "    </tr>\n",
       "    <tr>\n",
       "      <th>3</th>\n",
       "      <td>bakery</td>\n",
       "    </tr>\n",
       "    <tr>\n",
       "      <th>4</th>\n",
       "      <td>produce</td>\n",
       "    </tr>\n",
       "    <tr>\n",
       "      <th>5</th>\n",
       "      <td>alcohol</td>\n",
       "    </tr>\n",
       "  </tbody>\n",
       "</table>\n",
       "</div>"
      ],
      "text/plain": [
       "              department\n",
       "department_id           \n",
       "1                 frozen\n",
       "2                  other\n",
       "3                 bakery\n",
       "4                produce\n",
       "5                alcohol"
      ]
     },
     "execution_count": 5,
     "metadata": {},
     "output_type": "execute_result"
    }
   ],
   "source": [
    "# department frame dept\n",
    "dept = pd.read_csv(str_dept, index_col='department_id')\n",
    "dept.department.astype('category')\n",
    "dept.head()"
   ]
  },
  {
   "cell_type": "markdown",
   "metadata": {},
   "source": []
  },
  {
   "cell_type": "code",
   "execution_count": 6,
   "metadata": {
    "scrolled": true
   },
   "outputs": [
    {
     "name": "stdout",
     "output_type": "stream",
     "text": [
      "<class 'pandas.core.frame.DataFrame'>\n",
      "Int64Index: 49688 entries, 1 to 49688\n",
      "Data columns (total 3 columns):\n",
      "product_name     49688 non-null object\n",
      "aisle_id         49688 non-null int64\n",
      "department_id    49688 non-null int64\n",
      "dtypes: int64(2), object(1)\n",
      "memory usage: 1.3+ MB\n"
     ]
    }
   ],
   "source": [
    "# product frame\n",
    "prod = pd.read_csv(str_prod, index_col='product_id')\n",
    "prod.info()"
   ]
  },
  {
   "cell_type": "code",
   "execution_count": 7,
   "metadata": {
    "scrolled": true
   },
   "outputs": [
    {
     "name": "stdout",
     "output_type": "stream",
     "text": [
      "<class 'pandas.core.frame.DataFrame'>\n",
      "Int64Index: 1384617 entries, 1 to 3421070\n",
      "Data columns (total 3 columns):\n",
      "product_id           1384617 non-null int64\n",
      "add_to_cart_order    1384617 non-null int64\n",
      "reordered            1384617 non-null int64\n",
      "dtypes: int64(3)\n",
      "memory usage: 42.3 MB\n"
     ]
    },
    {
     "name": "stderr",
     "output_type": "stream",
     "text": [
      "c:\\users\\sdash_t4f1vsz\\appdata\\local\\programs\\python\\python37-32\\lib\\site-packages\\numpy\\lib\\arraysetops.py:569: FutureWarning: elementwise comparison failed; returning scalar instead, but in the future will perform elementwise comparison\n",
      "  mask |= (ar1 == a)\n"
     ]
    }
   ],
   "source": [
    "# train frame\n",
    "train = pd.read_csv(str_prod_train, index_col='order_id')\n",
    "train.info()"
   ]
  },
  {
   "cell_type": "code",
   "execution_count": 8,
   "metadata": {
    "scrolled": true
   },
   "outputs": [
    {
     "name": "stdout",
     "output_type": "stream",
     "text": [
      "<class 'pandas.core.frame.DataFrame'>\n",
      "MultiIndex: 1000000 entries, (2, 33120) to (105629, 18557)\n",
      "Data columns (total 2 columns):\n",
      "add_to_cart_order    1000000 non-null int64\n",
      "reordered            1000000 non-null int64\n",
      "dtypes: int64(2)\n",
      "memory usage: 23.9 MB\n"
     ]
    }
   ],
   "source": [
    "# prior frame\n",
    "prior = pd.read_csv(str_prod_prior, nrows=1000000, index_col = ['order_id', 'product_id'])\n",
    "prior.info()"
   ]
  },
  {
   "cell_type": "markdown",
   "metadata": {},
   "source": [
    "We change eval_set to category. The column has only three values."
   ]
  },
  {
   "cell_type": "code",
   "execution_count": 9,
   "metadata": {},
   "outputs": [
    {
     "data": {
      "text/html": [
       "<div>\n",
       "<style scoped>\n",
       "    .dataframe tbody tr th:only-of-type {\n",
       "        vertical-align: middle;\n",
       "    }\n",
       "\n",
       "    .dataframe tbody tr th {\n",
       "        vertical-align: top;\n",
       "    }\n",
       "\n",
       "    .dataframe thead th {\n",
       "        text-align: right;\n",
       "    }\n",
       "</style>\n",
       "<table border=\"1\" class=\"dataframe\">\n",
       "  <thead>\n",
       "    <tr style=\"text-align: right;\">\n",
       "      <th></th>\n",
       "      <th>user_id</th>\n",
       "      <th>eval_set</th>\n",
       "      <th>order_number</th>\n",
       "      <th>order_dow</th>\n",
       "      <th>order_hour_of_day</th>\n",
       "      <th>days_since_prior_order</th>\n",
       "    </tr>\n",
       "    <tr>\n",
       "      <th>order_id</th>\n",
       "      <th></th>\n",
       "      <th></th>\n",
       "      <th></th>\n",
       "      <th></th>\n",
       "      <th></th>\n",
       "      <th></th>\n",
       "    </tr>\n",
       "  </thead>\n",
       "  <tbody>\n",
       "    <tr>\n",
       "      <th>2539329</th>\n",
       "      <td>1</td>\n",
       "      <td>prior</td>\n",
       "      <td>1</td>\n",
       "      <td>2</td>\n",
       "      <td>8</td>\n",
       "      <td>NaN</td>\n",
       "    </tr>\n",
       "    <tr>\n",
       "      <th>2398795</th>\n",
       "      <td>1</td>\n",
       "      <td>prior</td>\n",
       "      <td>2</td>\n",
       "      <td>3</td>\n",
       "      <td>7</td>\n",
       "      <td>15.0</td>\n",
       "    </tr>\n",
       "    <tr>\n",
       "      <th>473747</th>\n",
       "      <td>1</td>\n",
       "      <td>prior</td>\n",
       "      <td>3</td>\n",
       "      <td>3</td>\n",
       "      <td>12</td>\n",
       "      <td>21.0</td>\n",
       "    </tr>\n",
       "    <tr>\n",
       "      <th>2254736</th>\n",
       "      <td>1</td>\n",
       "      <td>prior</td>\n",
       "      <td>4</td>\n",
       "      <td>4</td>\n",
       "      <td>7</td>\n",
       "      <td>29.0</td>\n",
       "    </tr>\n",
       "    <tr>\n",
       "      <th>431534</th>\n",
       "      <td>1</td>\n",
       "      <td>prior</td>\n",
       "      <td>5</td>\n",
       "      <td>4</td>\n",
       "      <td>15</td>\n",
       "      <td>28.0</td>\n",
       "    </tr>\n",
       "    <tr>\n",
       "      <th>3367565</th>\n",
       "      <td>1</td>\n",
       "      <td>prior</td>\n",
       "      <td>6</td>\n",
       "      <td>2</td>\n",
       "      <td>7</td>\n",
       "      <td>19.0</td>\n",
       "    </tr>\n",
       "    <tr>\n",
       "      <th>550135</th>\n",
       "      <td>1</td>\n",
       "      <td>prior</td>\n",
       "      <td>7</td>\n",
       "      <td>1</td>\n",
       "      <td>9</td>\n",
       "      <td>20.0</td>\n",
       "    </tr>\n",
       "    <tr>\n",
       "      <th>3108588</th>\n",
       "      <td>1</td>\n",
       "      <td>prior</td>\n",
       "      <td>8</td>\n",
       "      <td>1</td>\n",
       "      <td>14</td>\n",
       "      <td>14.0</td>\n",
       "    </tr>\n",
       "    <tr>\n",
       "      <th>2295261</th>\n",
       "      <td>1</td>\n",
       "      <td>prior</td>\n",
       "      <td>9</td>\n",
       "      <td>1</td>\n",
       "      <td>16</td>\n",
       "      <td>0.0</td>\n",
       "    </tr>\n",
       "    <tr>\n",
       "      <th>2550362</th>\n",
       "      <td>1</td>\n",
       "      <td>prior</td>\n",
       "      <td>10</td>\n",
       "      <td>4</td>\n",
       "      <td>8</td>\n",
       "      <td>30.0</td>\n",
       "    </tr>\n",
       "  </tbody>\n",
       "</table>\n",
       "</div>"
      ],
      "text/plain": [
       "          user_id eval_set  order_number  order_dow  order_hour_of_day  \\\n",
       "order_id                                                                 \n",
       "2539329         1    prior             1          2                  8   \n",
       "2398795         1    prior             2          3                  7   \n",
       "473747          1    prior             3          3                 12   \n",
       "2254736         1    prior             4          4                  7   \n",
       "431534          1    prior             5          4                 15   \n",
       "3367565         1    prior             6          2                  7   \n",
       "550135          1    prior             7          1                  9   \n",
       "3108588         1    prior             8          1                 14   \n",
       "2295261         1    prior             9          1                 16   \n",
       "2550362         1    prior            10          4                  8   \n",
       "\n",
       "          days_since_prior_order  \n",
       "order_id                          \n",
       "2539329                      NaN  \n",
       "2398795                     15.0  \n",
       "473747                      21.0  \n",
       "2254736                     29.0  \n",
       "431534                      28.0  \n",
       "3367565                     19.0  \n",
       "550135                      20.0  \n",
       "3108588                     14.0  \n",
       "2295261                      0.0  \n",
       "2550362                     30.0  "
      ]
     },
     "execution_count": 9,
     "metadata": {},
     "output_type": "execute_result"
    }
   ],
   "source": [
    "orders = pd.read_csv(str_orders, index_col='order_id')\n",
    "orders.eval_set.astype('category')\n",
    "orders.head(10)"
   ]
  },
  {
   "cell_type": "code",
   "execution_count": null,
   "metadata": {},
   "outputs": [],
   "source": []
  },
  {
   "cell_type": "markdown",
   "metadata": {},
   "source": [
    "Combining train and prior data frames."
   ]
  },
  {
   "cell_type": "code",
   "execution_count": 10,
   "metadata": {
    "scrolled": true
   },
   "outputs": [
    {
     "data": {
      "text/html": [
       "<div>\n",
       "<style scoped>\n",
       "    .dataframe tbody tr th:only-of-type {\n",
       "        vertical-align: middle;\n",
       "    }\n",
       "\n",
       "    .dataframe tbody tr th {\n",
       "        vertical-align: top;\n",
       "    }\n",
       "\n",
       "    .dataframe thead th {\n",
       "        text-align: right;\n",
       "    }\n",
       "</style>\n",
       "<table border=\"1\" class=\"dataframe\">\n",
       "  <thead>\n",
       "    <tr style=\"text-align: right;\">\n",
       "      <th></th>\n",
       "      <th>add_to_cart_order</th>\n",
       "      <th>product_id</th>\n",
       "      <th>reordered</th>\n",
       "    </tr>\n",
       "  </thead>\n",
       "  <tbody>\n",
       "    <tr>\n",
       "      <th>(2, 33120)</th>\n",
       "      <td>1</td>\n",
       "      <td>NaN</td>\n",
       "      <td>1</td>\n",
       "    </tr>\n",
       "    <tr>\n",
       "      <th>(2, 28985)</th>\n",
       "      <td>2</td>\n",
       "      <td>NaN</td>\n",
       "      <td>1</td>\n",
       "    </tr>\n",
       "    <tr>\n",
       "      <th>(2, 9327)</th>\n",
       "      <td>3</td>\n",
       "      <td>NaN</td>\n",
       "      <td>0</td>\n",
       "    </tr>\n",
       "    <tr>\n",
       "      <th>(2, 45918)</th>\n",
       "      <td>4</td>\n",
       "      <td>NaN</td>\n",
       "      <td>1</td>\n",
       "    </tr>\n",
       "    <tr>\n",
       "      <th>(2, 30035)</th>\n",
       "      <td>5</td>\n",
       "      <td>NaN</td>\n",
       "      <td>0</td>\n",
       "    </tr>\n",
       "  </tbody>\n",
       "</table>\n",
       "</div>"
      ],
      "text/plain": [
       "            add_to_cart_order  product_id  reordered\n",
       "(2, 33120)                  1         NaN          1\n",
       "(2, 28985)                  2         NaN          1\n",
       "(2, 9327)                   3         NaN          0\n",
       "(2, 45918)                  4         NaN          1\n",
       "(2, 30035)                  5         NaN          0"
      ]
     },
     "execution_count": 10,
     "metadata": {},
     "output_type": "execute_result"
    }
   ],
   "source": [
    "# train and prior contain the same type of data. We combine these two for analysis.\n",
    "combine = pd.concat([prior, train], sort = True)\n",
    "combine.head()"
   ]
  },
  {
   "cell_type": "code",
   "execution_count": null,
   "metadata": {},
   "outputs": [],
   "source": []
  },
  {
   "cell_type": "code",
   "execution_count": null,
   "metadata": {},
   "outputs": [],
   "source": []
  },
  {
   "cell_type": "markdown",
   "metadata": {},
   "source": [
    "We visualize the data."
   ]
  },
  {
   "cell_type": "code",
   "execution_count": 21,
   "metadata": {
    "scrolled": true
   },
   "outputs": [
    {
     "data": {
      "image/png": "[encoded data removed]",
      "text/plain": [
       "<Figure size 432x288 with 1 Axes>"
      ]
     },
     "metadata": {},
     "output_type": "display_data"
    }
   ],
   "source": [
    "# Visualizing orders by day.\n",
    "fgroupped_day = orders.groupby('order_dow').count().plot(kind='bar',y='user_id', title='Orders pey day of week')\n",
    "\n"
   ]
  },
  {
   "cell_type": "markdown",
   "metadata": {},
   "source": [
    "We check to see data in hourly categories."
   ]
  },
  {
   "cell_type": "code",
   "execution_count": 22,
   "metadata": {
    "scrolled": true
   },
   "outputs": [
    {
     "data": {
      "text/plain": [
       "<matplotlib.axes._subplots.AxesSubplot at 0x96f290>"
      ]
     },
     "execution_count": 22,
     "metadata": {},
     "output_type": "execute_result"
    },
    {
     "data": {
      "image/png": "[encoded data removed]",
      "text/plain": [
       "<Figure size 432x288 with 1 Axes>"
      ]
     },
     "metadata": {},
     "output_type": "display_data"
    }
   ],
   "source": [
    "#graphing dayly activities per hour.\n",
    "orders.groupby('order_hour_of_day').count().plot(kind='bar', y='user_id', title='number of orders in each hour of day')"
   ]
  },
  {
   "cell_type": "markdown",
   "metadata": {},
   "source": [
    " We visualize data for inspection.\n",
    " \n",
    " We see that all orders for 30 days or more are aggregated into a single column."
   ]
  },
  {
   "cell_type": "code",
   "execution_count": 23,
   "metadata": {
    "scrolled": true
   },
   "outputs": [
    {
     "data": {
      "text/plain": [
       "<matplotlib.axes._subplots.AxesSubplot at 0x9ddc50>"
      ]
     },
     "execution_count": 23,
     "metadata": {},
     "output_type": "execute_result"
    },
    {
     "data": {
      "image/png": "[encoded data removed]",
      "text/plain": [
       "<Figure size 432x288 with 1 Axes>"
      ]
     },
     "metadata": {},
     "output_type": "display_data"
    }
   ],
   "source": [
    "#grouping ordres according to days since prior order\n",
    "orders.groupby('days_since_prior_order').count().plot(kind='bar', rot=60\n",
    "                                                         , y='user_id', title='Number of customeres frequency ordering')"
   ]
  },
  {
   "cell_type": "markdown",
   "metadata": {},
   "source": [
    "We cannot work on pattern where the days are 30 or more, because all orders are aggregated. We are separating these orders from set."
   ]
  },
  {
   "cell_type": "code",
   "execution_count": 24,
   "metadata": {
    "scrolled": true
   },
   "outputs": [
    {
     "data": {
      "text/plain": [
       "<matplotlib.axes._subplots.AxesSubplot at 0xb049f0>"
      ]
     },
     "execution_count": 24,
     "metadata": {},
     "output_type": "execute_result"
    },
    {
     "data": {
      "image/png": "[encoded data removed]",
      "text/plain": [
       "<Figure size 432x288 with 1 Axes>"
      ]
     },
     "metadata": {},
     "output_type": "display_data"
    }
   ],
   "source": [
    "# dropping all observation where days since prior order is 30.\n",
    "orders_29 = orders.loc[orders['days_since_prior_order'] < 30]\n",
    "orders_30 = orders.loc[orders['days_since_prior_order']>=30]\n",
    "orders_29.groupby('days_since_prior_order').count().plot(kind='bar',rot=60, y='user_id')"
   ]
  },
  {
   "cell_type": "markdown",
   "metadata": {},
   "source": [
    "We save orders in two separate files for further processing: orders_29.csv and orders_30.csv. \n",
    "\n",
    "The first file contains all data for orders that are reordes 29 days or less after a prior order. \n",
    "\n",
    "The other file contains all orders that are 30 days or more after the previous order."
   ]
  },
  {
   "cell_type": "code",
   "execution_count": 33,
   "metadata": {},
   "outputs": [],
   "source": [
    "# saving the separated data in two files for processing\n",
    "# orders_29.csv and orders_30.csv\n",
    "fp_orders_29.to_csv('orders_29.csv')\n",
    "fp_orders_30.to_csv('orders_30.csv')\n"
   ]
  },
  {
   "cell_type": "markdown",
   "metadata": {},
   "source": [
    "We investigate relationship between days sinse prior order and number of items purchased. We use trunkated file, because 30 days is an agregate that contains 30 or more days."
   ]
  },
  {
   "cell_type": "code",
   "execution_count": 20,
   "metadata": {},
   "outputs": [
    {
     "name": "stdout",
     "output_type": "stream",
     "text": [
      "<class 'pandas.core.frame.DataFrame'>\n",
      "Int64Index: 2702528 entries, 2398795 to 2977660\n",
      "Data columns (total 5 columns):\n",
      "user_id                   int64\n",
      "order_number              int64\n",
      "order_dow                 int64\n",
      "order_hour_of_day         int64\n",
      "days_since_prior_order    float64\n",
      "dtypes: float64(1), int64(4)\n",
      "memory usage: 123.7 MB\n"
     ]
    }
   ],
   "source": [
    "str_orders = 'orders_p29.csv'\n",
    "orders_p29 = pd.read_csv(str_orders, index_col='order_id')\n",
    "orders_p29.info()\n"
   ]
  },
  {
   "cell_type": "code",
   "execution_count": 17,
   "metadata": {},
   "outputs": [],
   "source": [
    "last_item = prior.groupby('order_id').count()['add_to_cart_order']\n"
   ]
  },
  {
   "cell_type": "code",
   "execution_count": 25,
   "metadata": {},
   "outputs": [
    {
     "data": {
      "text/plain": [
       "<matplotlib.axes._subplots.AxesSubplot at 0xb3a810>"
      ]
     },
     "execution_count": 25,
     "metadata": {},
     "output_type": "execute_result"
    },
    {
     "data": {
      "image/png": "[encoded data removed]",
      "text/plain": [
       "<Figure size 432x288 with 1 Axes>"
      ]
     },
     "metadata": {},
     "output_type": "display_data"
    }
   ],
   "source": [
    "# distribution of how many items in basket. Skewed right.\n",
    "last_item.plot(kind='box',label='Number of items in basket', )"
   ]
  },
  {
   "cell_type": "code",
   "execution_count": null,
   "metadata": {},
   "outputs": [],
   "source": []
  },
  {
   "cell_type": "code",
   "execution_count": null,
   "metadata": {},
   "outputs": [],
   "source": []
  },
  {
   "cell_type": "code",
   "execution_count": 26,
   "metadata": {},
   "outputs": [
    {
     "data": {
      "text/plain": [
       "count    99260.000000\n",
       "mean        10.074552\n",
       "std          7.515680\n",
       "min          1.000000\n",
       "25%          5.000000\n",
       "50%          8.000000\n",
       "75%         14.000000\n",
       "max        127.000000\n",
       "Name: add_to_cart_order, dtype: float64"
      ]
     },
     "execution_count": 26,
     "metadata": {},
     "output_type": "execute_result"
    }
   ],
   "source": [
    "last_item.describe()"
   ]
  },
  {
   "cell_type": "markdown",
   "metadata": {},
   "source": [
    "We separate all outliers above from the table. We take out all items that are more than 3 sdandard deviation from the mean:\n",
    "Upper bound = 10.07 + 3*7.51 = 32.6."
   ]
  },
  {
   "cell_type": "code",
   "execution_count": 27,
   "metadata": {},
   "outputs": [
    {
     "data": {
      "text/plain": [
       "count    1256.000000\n",
       "mean       40.146497\n",
       "std         7.608500\n",
       "min        34.000000\n",
       "25%        35.000000\n",
       "50%        38.000000\n",
       "75%        42.000000\n",
       "max       127.000000\n",
       "Name: add_to_cart_order, dtype: float64"
      ]
     },
     "execution_count": 27,
     "metadata": {},
     "output_type": "execute_result"
    }
   ],
   "source": [
    "# separate all upper outliers\n",
    "high_orders = last_item.loc[last_item > 33]\n",
    "high_orders.describe()\n"
   ]
  },
  {
   "cell_type": "code",
   "execution_count": 29,
   "metadata": {},
   "outputs": [
    {
     "data": {
      "text/plain": [
       "<matplotlib.axes._subplots.AxesSubplot at 0xc01eb0>"
      ]
     },
     "execution_count": 29,
     "metadata": {},
     "output_type": "execute_result"
    },
    {
     "data": {
      "image/png": "[encoded data removed]",
      "text/plain": [
       "<Figure size 432x288 with 1 Axes>"
      ]
     },
     "metadata": {},
     "output_type": "display_data"
    }
   ],
   "source": [
    "high_orders.plot(kind='box', label='Items in basket for high volume orders')"
   ]
  },
  {
   "cell_type": "code",
   "execution_count": null,
   "metadata": {},
   "outputs": [],
   "source": []
  },
  {
   "cell_type": "code",
   "execution_count": null,
   "metadata": {},
   "outputs": [],
   "source": []
  },
  {
   "cell_type": "markdown",
   "metadata": {},
   "source": [
    "We look for the outliers for the high volume order, using the bound\n",
    "40.1 + 3*7.6 = 62.9."
   ]
  },
  {
   "cell_type": "code",
   "execution_count": 34,
   "metadata": {},
   "outputs": [
    {
     "data": {
      "text/plain": [
       "order_id\n",
       "53650      64\n",
       "9310       65\n",
       "13167      66\n",
       "30842      66\n",
       "88599      66\n",
       "12371      68\n",
       "28332      71\n",
       "65061      71\n",
       "38735      74\n",
       "72118      75\n",
       "70299      83\n",
       "45973      92\n",
       "82167      92\n",
       "102236     95\n",
       "77151     109\n",
       "61355     127\n",
       "Name: add_to_cart_order, dtype: int64"
      ]
     },
     "execution_count": 34,
     "metadata": {},
     "output_type": "execute_result"
    }
   ],
   "source": [
    "high_orders.loc[high_orders>63].sort_values()"
   ]
  },
  {
   "cell_type": "code",
   "execution_count": null,
   "metadata": {},
   "outputs": [],
   "source": []
  },
  {
   "cell_type": "code",
   "execution_count": null,
   "metadata": {},
   "outputs": [],
   "source": []
  },
  {
   "cell_type": "markdown",
   "metadata": {},
   "source": [
    "What percent are the high order items compared to all items ordered?"
   ]
  },
  {
   "cell_type": "code",
   "execution_count": 39,
   "metadata": {},
   "outputs": [
    {
     "name": "stdout",
     "output_type": "stream",
     "text": [
      "The high orders are 0.012653636913157365% from all orders,\n",
      "but they account for 0.050424% from all items.\n"
     ]
    }
   ],
   "source": [
    "percent_high_items = high_orders.sum()/last_item.sum()\n",
    "percent_of_hig = high_orders.count()/last_item.count()\n",
    "print('The high orders are ' + str(percent_of_hig) + '% from all orders,')\n",
    "print('but they account for '+ str(percent_high_items) + '% from all items.')"
   ]
  },
  {
   "cell_type": "code",
   "execution_count": 26,
   "metadata": {},
   "outputs": [
    {
     "data": {
      "text/plain": [
       "<matplotlib.axes._subplots.AxesSubplot at 0xb1f3450>"
      ]
     },
     "execution_count": 26,
     "metadata": {},
     "output_type": "execute_result"
    },
    {
     "data": {
      "image/png": "[encoded data removed]",
      "text/plain": [
       "<Figure size 432x288 with 1 Axes>"
      ]
     },
     "metadata": {
      "needs_background": "light"
     },
     "output_type": "display_data"
    }
   ],
   "source": [
    "# distribution of number of items in a basket for all orders made prior to 30 days.\n",
    "orders_p29.plot(kind='hist', y='items_in_basket', bins=100)"
   ]
  },
  {
   "cell_type": "code",
   "execution_count": 30,
   "metadata": {},
   "outputs": [
    {
     "data": {
      "text/plain": [
       "<matplotlib.axes._subplots.AxesSubplot at 0xd64def0>"
      ]
     },
     "execution_count": 30,
     "metadata": {},
     "output_type": "execute_result"
    },
    {
     "data": {
      "image/png": "[encoded data removed]",
      "text/plain": [
       "<Figure size 432x288 with 1 Axes>"
      ]
     },
     "metadata": {
      "needs_background": "light"
     },
     "output_type": "display_data"
    }
   ],
   "source": [
    "# create seaborn historgram\n",
    "sns.distplot(orders_p29['items_in_basket'], kde=False, bins=100)"
   ]
  },
  {
   "cell_type": "code",
   "execution_count": 21,
   "metadata": {},
   "outputs": [
    {
     "data": {
      "text/plain": [
       "<matplotlib.axes._subplots.AxesSubplot at 0x13027d0>"
      ]
     },
     "execution_count": 21,
     "metadata": {},
     "output_type": "execute_result"
    },
    {
     "data": {
      "image/png": "[encoded data removed]",
      "text/plain": [
       "<Figure size 432x288 with 1 Axes>"
      ]
     },
     "metadata": {
      "needs_background": "light"
     },
     "output_type": "display_data"
    }
   ],
   "source": [
    "# distribution of number of items ordered when order comes no less than 30 days after prior order. \n",
    "str_orders = 'orders_p30.csv'\n",
    "orders_p30 = pd.read_csv(str_orders, index_col='order_id')\n",
    "orders_p30['items_in_basket'] = last_item\n",
    "orders_p30.plot(kind='hist', y='items_in_basket',bins=100)"
   ]
  },
  {
   "cell_type": "code",
   "execution_count": 41,
   "metadata": {},
   "outputs": [
    {
     "name": "stdout",
     "output_type": "stream",
     "text": [
      "<class 'pandas.core.frame.DataFrame'>\n",
      "Int64Index: 42353 entries, 144358 to 85132\n",
      "Data columns (total 6 columns):\n",
      "user_id                   42353 non-null int64\n",
      "order_number              42353 non-null int64\n",
      "order_dow                 42353 non-null int64\n",
      "order_hour_of_day         42353 non-null int64\n",
      "days_since_prior_order    42353 non-null float64\n",
      "items_in_basket           42353 non-null float64\n",
      "dtypes: float64(2), int64(4)\n",
      "memory usage: 2.3 MB\n"
     ]
    },
    {
     "data": {
      "image/png": "[encoded data removed]",
      "text/plain": [
       "<Figure size 432x288 with 1 Axes>"
      ]
     },
     "metadata": {
      "needs_background": "light"
     },
     "output_type": "display_data"
    }
   ],
   "source": [
    "# low orders 30 distribution\n",
    "low_orders = orders_p30.loc[ (orders_p30['items_in_basket'] < 21)]\n",
    "low_orders.plot(kind='hist', y='items_in_basket',bins=20)\n",
    "low_orders.info()"
   ]
  },
  {
   "cell_type": "markdown",
   "metadata": {},
   "source": [
    "The frequency distribution table below confirms there are no gaps in distribution as shown above."
   ]
  },
  {
   "cell_type": "code",
   "execution_count": 42,
   "metadata": {},
   "outputs": [],
   "source": [
    "# check frequency distribution from main graph above.\n",
    "# remove # to see output.\n",
    "freq_dist = pd.Series(orders_p30['items_in_basket'])\n",
    "#freq_dist.value_counts(ascending = True) "
   ]
  },
  {
   "cell_type": "code",
   "execution_count": 43,
   "metadata": {},
   "outputs": [],
   "source": [
    "# grouping orders per user.\n",
    "# we may need the full set of rows from order-product-prior. \n",
    "orders_p = pd.read_csv('orders_p.csv')\n",
    "orders_p['items_in_basket'] = last_item\n",
    "# %whos"
   ]
  },
  {
   "cell_type": "code",
   "execution_count": 44,
   "metadata": {},
   "outputs": [],
   "source": [
    "# ???\n",
    "group_byuser = orders_p.groupby('user_id')['items_in_basket']\n"
   ]
  },
  {
   "cell_type": "code",
   "execution_count": null,
   "metadata": {},
   "outputs": [],
   "source": []
  },
  {
   "cell_type": "code",
   "execution_count": null,
   "metadata": {},
   "outputs": [],
   "source": []
  },
  {
   "cell_type": "code",
   "execution_count": 45,
   "metadata": {},
   "outputs": [
    {
     "data": {
      "text/html": [
       "<div>\n",
       "<style scoped>\n",
       "    .dataframe tbody tr th:only-of-type {\n",
       "        vertical-align: middle;\n",
       "    }\n",
       "\n",
       "    .dataframe tbody tr th {\n",
       "        vertical-align: top;\n",
       "    }\n",
       "\n",
       "    .dataframe thead th {\n",
       "        text-align: right;\n",
       "    }\n",
       "</style>\n",
       "<table border=\"1\" class=\"dataframe\">\n",
       "  <thead>\n",
       "    <tr style=\"text-align: right;\">\n",
       "      <th></th>\n",
       "      <th>product_name</th>\n",
       "      <th>reordered_x</th>\n",
       "      <th>reordered_y</th>\n",
       "    </tr>\n",
       "    <tr>\n",
       "      <th>product_id</th>\n",
       "      <th></th>\n",
       "      <th></th>\n",
       "      <th></th>\n",
       "    </tr>\n",
       "  </thead>\n",
       "  <tbody>\n",
       "    <tr>\n",
       "      <th>24852</th>\n",
       "      <td>Banana</td>\n",
       "      <td>72987</td>\n",
       "      <td>61564</td>\n",
       "    </tr>\n",
       "    <tr>\n",
       "      <th>13176</th>\n",
       "      <td>Bag of Organic Bananas</td>\n",
       "      <td>58404</td>\n",
       "      <td>48505</td>\n",
       "    </tr>\n",
       "    <tr>\n",
       "      <th>21137</th>\n",
       "      <td>Organic Strawberries</td>\n",
       "      <td>40927</td>\n",
       "      <td>31898</td>\n",
       "    </tr>\n",
       "    <tr>\n",
       "      <th>21903</th>\n",
       "      <td>Organic Baby Spinach</td>\n",
       "      <td>37177</td>\n",
       "      <td>28693</td>\n",
       "    </tr>\n",
       "    <tr>\n",
       "      <th>47209</th>\n",
       "      <td>Organic Hass Avocado</td>\n",
       "      <td>32817</td>\n",
       "      <td>26024</td>\n",
       "    </tr>\n",
       "    <tr>\n",
       "      <th>47766</th>\n",
       "      <td>Organic Avocado</td>\n",
       "      <td>27038</td>\n",
       "      <td>20481</td>\n",
       "    </tr>\n",
       "    <tr>\n",
       "      <th>47626</th>\n",
       "      <td>Large Lemon</td>\n",
       "      <td>23682</td>\n",
       "      <td>16463</td>\n",
       "    </tr>\n",
       "    <tr>\n",
       "      <th>16797</th>\n",
       "      <td>Strawberries</td>\n",
       "      <td>22055</td>\n",
       "      <td>15364</td>\n",
       "    </tr>\n",
       "    <tr>\n",
       "      <th>26209</th>\n",
       "      <td>Limes</td>\n",
       "      <td>21644</td>\n",
       "      <td>14648</td>\n",
       "    </tr>\n",
       "    <tr>\n",
       "      <th>27845</th>\n",
       "      <td>Organic Whole Milk</td>\n",
       "      <td>21177</td>\n",
       "      <td>17587</td>\n",
       "    </tr>\n",
       "    <tr>\n",
       "      <th>27966</th>\n",
       "      <td>Organic Raspberries</td>\n",
       "      <td>20984</td>\n",
       "      <td>16081</td>\n",
       "    </tr>\n",
       "    <tr>\n",
       "      <th>22935</th>\n",
       "      <td>Organic Yellow Onion</td>\n",
       "      <td>17503</td>\n",
       "      <td>12188</td>\n",
       "    </tr>\n",
       "    <tr>\n",
       "      <th>24964</th>\n",
       "      <td>Organic Garlic</td>\n",
       "      <td>16918</td>\n",
       "      <td>11494</td>\n",
       "    </tr>\n",
       "    <tr>\n",
       "      <th>45007</th>\n",
       "      <td>Organic Zucchini</td>\n",
       "      <td>16159</td>\n",
       "      <td>11160</td>\n",
       "    </tr>\n",
       "    <tr>\n",
       "      <th>39275</th>\n",
       "      <td>Organic Blueberries</td>\n",
       "      <td>15456</td>\n",
       "      <td>9665</td>\n",
       "    </tr>\n",
       "    <tr>\n",
       "      <th>49683</th>\n",
       "      <td>Cucumber Kirby</td>\n",
       "      <td>14958</td>\n",
       "      <td>10394</td>\n",
       "    </tr>\n",
       "    <tr>\n",
       "      <th>28204</th>\n",
       "      <td>Organic Fuji Apple</td>\n",
       "      <td>13850</td>\n",
       "      <td>9814</td>\n",
       "    </tr>\n",
       "    <tr>\n",
       "      <th>5876</th>\n",
       "      <td>Organic Lemon</td>\n",
       "      <td>13520</td>\n",
       "      <td>9391</td>\n",
       "    </tr>\n",
       "    <tr>\n",
       "      <th>8277</th>\n",
       "      <td>Apple Honeycrisp Organic</td>\n",
       "      <td>13153</td>\n",
       "      <td>9638</td>\n",
       "    </tr>\n",
       "    <tr>\n",
       "      <th>40706</th>\n",
       "      <td>Organic Grape Tomatoes</td>\n",
       "      <td>13047</td>\n",
       "      <td>8524</td>\n",
       "    </tr>\n",
       "    <tr>\n",
       "      <th>4920</th>\n",
       "      <td>Seedless Red Grapes</td>\n",
       "      <td>12922</td>\n",
       "      <td>8561</td>\n",
       "    </tr>\n",
       "    <tr>\n",
       "      <th>30391</th>\n",
       "      <td>Organic Cucumber</td>\n",
       "      <td>12421</td>\n",
       "      <td>8689</td>\n",
       "    </tr>\n",
       "    <tr>\n",
       "      <th>45066</th>\n",
       "      <td>Honeycrisp Apple</td>\n",
       "      <td>12288</td>\n",
       "      <td>8746</td>\n",
       "    </tr>\n",
       "    <tr>\n",
       "      <th>49235</th>\n",
       "      <td>Organic Half &amp; Half</td>\n",
       "      <td>11916</td>\n",
       "      <td>9282</td>\n",
       "    </tr>\n",
       "    <tr>\n",
       "      <th>42265</th>\n",
       "      <td>Organic Baby Carrots</td>\n",
       "      <td>11829</td>\n",
       "      <td>7693</td>\n",
       "    </tr>\n",
       "    <tr>\n",
       "      <th>44632</th>\n",
       "      <td>Sparkling Water Grapefruit</td>\n",
       "      <td>11779</td>\n",
       "      <td>9033</td>\n",
       "    </tr>\n",
       "    <tr>\n",
       "      <th>19057</th>\n",
       "      <td>Organic Large Extra Fancy Fuji Apple</td>\n",
       "      <td>11596</td>\n",
       "      <td>8894</td>\n",
       "    </tr>\n",
       "    <tr>\n",
       "      <th>17794</th>\n",
       "      <td>Carrots</td>\n",
       "      <td>11350</td>\n",
       "      <td>7249</td>\n",
       "    </tr>\n",
       "    <tr>\n",
       "      <th>4605</th>\n",
       "      <td>Yellow Onions</td>\n",
       "      <td>11308</td>\n",
       "      <td>6730</td>\n",
       "    </tr>\n",
       "    <tr>\n",
       "      <th>37646</th>\n",
       "      <td>Organic Gala Apples</td>\n",
       "      <td>11250</td>\n",
       "      <td>8217</td>\n",
       "    </tr>\n",
       "  </tbody>\n",
       "</table>\n",
       "</div>"
      ],
      "text/plain": [
       "                                    product_name  reordered_x  reordered_y\n",
       "product_id                                                                \n",
       "24852                                     Banana        72987        61564\n",
       "13176                     Bag of Organic Bananas        58404        48505\n",
       "21137                       Organic Strawberries        40927        31898\n",
       "21903                       Organic Baby Spinach        37177        28693\n",
       "47209                       Organic Hass Avocado        32817        26024\n",
       "47766                            Organic Avocado        27038        20481\n",
       "47626                                Large Lemon        23682        16463\n",
       "16797                               Strawberries        22055        15364\n",
       "26209                                      Limes        21644        14648\n",
       "27845                         Organic Whole Milk        21177        17587\n",
       "27966                        Organic Raspberries        20984        16081\n",
       "22935                       Organic Yellow Onion        17503        12188\n",
       "24964                             Organic Garlic        16918        11494\n",
       "45007                           Organic Zucchini        16159        11160\n",
       "39275                        Organic Blueberries        15456         9665\n",
       "49683                             Cucumber Kirby        14958        10394\n",
       "28204                         Organic Fuji Apple        13850         9814\n",
       "5876                               Organic Lemon        13520         9391\n",
       "8277                    Apple Honeycrisp Organic        13153         9638\n",
       "40706                     Organic Grape Tomatoes        13047         8524\n",
       "4920                         Seedless Red Grapes        12922         8561\n",
       "30391                           Organic Cucumber        12421         8689\n",
       "45066                           Honeycrisp Apple        12288         8746\n",
       "49235                        Organic Half & Half        11916         9282\n",
       "42265                       Organic Baby Carrots        11829         7693\n",
       "44632                 Sparkling Water Grapefruit        11779         9033\n",
       "19057       Organic Large Extra Fancy Fuji Apple        11596         8894\n",
       "17794                                    Carrots        11350         7249\n",
       "4605                               Yellow Onions        11308         6730\n",
       "37646                        Organic Gala Apples        11250         8217"
      ]
     },
     "execution_count": 45,
     "metadata": {},
     "output_type": "execute_result"
    }
   ],
   "source": [
    "# most common orders\n",
    "most_products = fp_p_prior.groupby('product_id').count()['reordered']\n",
    "most_reorders = fp_p_prior.groupby('product_id').sum()['reordered']\n",
    "\n",
    "most_products = pd.merge(left=most_products, right=most_reorders, left_on='product_id', right_on='product_id')\n",
    "most_products = pd.merge(left=fr_prod['product_name'], right=most_products, left_on='product_id', right_on='product_id')\n",
    "\n",
    "most_products.sort_values('reordered_x', inplace=True, ascending=False)\n",
    "most_products.head(30)"
   ]
  },
  {
   "cell_type": "code",
   "execution_count": null,
   "metadata": {},
   "outputs": [],
   "source": []
  },
  {
   "cell_type": "code",
   "execution_count": null,
   "metadata": {},
   "outputs": [],
   "source": []
  },
  {
   "cell_type": "code",
   "execution_count": 51,
   "metadata": {},
   "outputs": [
    {
     "data": {
      "text/plain": [
       "<matplotlib.axes._subplots.AxesSubplot at 0xbc89810>"
      ]
     },
     "execution_count": 51,
     "metadata": {},
     "output_type": "execute_result"
    },
    {
     "data": {
      "image/png": "[encoded data removed]",
      "text/plain": [
       "<Figure size 432x288 with 1 Axes>"
      ]
     },
     "metadata": {
      "needs_background": "light"
     },
     "output_type": "display_data"
    }
   ],
   "source": [
    "# most ordered products box plot\n",
    "most_products.plot(kind='box', y='reordered_x', logy=True) # most commonly ordered products"
   ]
  },
  {
   "cell_type": "code",
   "execution_count": 53,
   "metadata": {},
   "outputs": [
    {
     "data": {
      "text/plain": [
       "<matplotlib.axes._subplots.AxesSubplot at 0xd19dcb0>"
      ]
     },
     "execution_count": 53,
     "metadata": {},
     "output_type": "execute_result"
    },
    {
     "data": {
      "image/png": "[encoded data removed]",
      "text/plain": [
       "<Figure size 432x288 with 1 Axes>"
      ]
     },
     "metadata": {
      "needs_background": "light"
     },
     "output_type": "display_data"
    }
   ],
   "source": [
    "# most reordered products\n",
    "most_products.plot(kind='box', y='reordered_y', logy=True)"
   ]
  },
  {
   "cell_type": "code",
   "execution_count": null,
   "metadata": {},
   "outputs": [],
   "source": []
  },
  {
   "cell_type": "code",
   "execution_count": 47,
   "metadata": {},
   "outputs": [
    {
     "data": {
      "text/html": [
       "<div>\n",
       "<style scoped>\n",
       "    .dataframe tbody tr th:only-of-type {\n",
       "        vertical-align: middle;\n",
       "    }\n",
       "\n",
       "    .dataframe tbody tr th {\n",
       "        vertical-align: top;\n",
       "    }\n",
       "\n",
       "    .dataframe thead th {\n",
       "        text-align: right;\n",
       "    }\n",
       "</style>\n",
       "<table border=\"1\" class=\"dataframe\">\n",
       "  <thead>\n",
       "    <tr style=\"text-align: right;\">\n",
       "      <th></th>\n",
       "      <th></th>\n",
       "      <th>add_to_cart_order</th>\n",
       "      <th>reordered</th>\n",
       "    </tr>\n",
       "    <tr>\n",
       "      <th>order_id</th>\n",
       "      <th>product_id</th>\n",
       "      <th></th>\n",
       "      <th></th>\n",
       "    </tr>\n",
       "  </thead>\n",
       "  <tbody>\n",
       "    <tr>\n",
       "      <th>2</th>\n",
       "      <th>33120</th>\n",
       "      <td>1</td>\n",
       "      <td>1</td>\n",
       "    </tr>\n",
       "    <tr>\n",
       "      <th>3</th>\n",
       "      <th>33754</th>\n",
       "      <td>1</td>\n",
       "      <td>1</td>\n",
       "    </tr>\n",
       "    <tr>\n",
       "      <th>4</th>\n",
       "      <th>46842</th>\n",
       "      <td>1</td>\n",
       "      <td>0</td>\n",
       "    </tr>\n",
       "    <tr>\n",
       "      <th>5</th>\n",
       "      <th>13176</th>\n",
       "      <td>1</td>\n",
       "      <td>1</td>\n",
       "    </tr>\n",
       "    <tr>\n",
       "      <th>6</th>\n",
       "      <th>40462</th>\n",
       "      <td>1</td>\n",
       "      <td>0</td>\n",
       "    </tr>\n",
       "  </tbody>\n",
       "</table>\n",
       "</div>"
      ],
      "text/plain": [
       "                     add_to_cart_order  reordered\n",
       "order_id product_id                              \n",
       "2        33120                       1          1\n",
       "3        33754                       1          1\n",
       "4        46842                       1          0\n",
       "5        13176                       1          1\n",
       "6        40462                       1          0"
      ]
     },
     "execution_count": 47,
     "metadata": {},
     "output_type": "execute_result"
    }
   ],
   "source": [
    "# which product was ordered first\n",
    "ordered_first = fp_p_prior.loc[fp_p_prior.add_to_cart_order==1]\n",
    "ordered_first.head()"
   ]
  },
  {
   "cell_type": "code",
   "execution_count": 48,
   "metadata": {
    "scrolled": true
   },
   "outputs": [
    {
     "data": {
      "text/plain": [
       "<matplotlib.axes._subplots.AxesSubplot at 0xc51cc50>"
      ]
     },
     "execution_count": 48,
     "metadata": {},
     "output_type": "execute_result"
    },
    {
     "data": {
      "image/png": "[encoded data removed]",
      "text/plain": [
       "<Figure size 432x288 with 1 Axes>"
      ]
     },
     "metadata": {
      "needs_background": "light"
     },
     "output_type": "display_data"
    }
   ],
   "source": [
    "# are more frequent items ordered first?\n",
    "# number of times an item is ordered, sorted\n",
    "frequency_count = fp_p_prior.groupby('product_id').count()['add_to_cart_order'].sort_values(ascending=False)\n",
    "# summing add_to_cart_order to find average order value\n",
    "sum_add_to_order = fp_p_prior.groupby('product_id')['add_to_cart_order'].sum()\n",
    "\n",
    "# merging the two data frames.\n",
    "frequency_count = pd.merge(left=frequency_count, right=sum_add_to_order, left_on='product_id', right_on='product_id')\n",
    "# new column - ave_order to show when on average in the list the item is ordered.\n",
    "frequency_count['ave_order'] = frequency_count['add_to_cart_order_y'] / frequency_count['add_to_cart_order_x']\n",
    "\n",
    "# plotting the ave_order.\n",
    "frequency_count.plot(kind='scatter', y='add_to_cart_order_y', x='ave_order')"
   ]
  },
  {
   "cell_type": "code",
   "execution_count": 49,
   "metadata": {},
   "outputs": [
    {
     "data": {
      "text/plain": [
       "<matplotlib.axes._subplots.AxesSubplot at 0xc7e0590>"
      ]
     },
     "execution_count": 49,
     "metadata": {},
     "output_type": "execute_result"
    },
    {
     "data": {
      "image/png": "[encoded data removed]",
      "text/plain": [
       "<Figure size 432x288 with 1 Axes>"
      ]
     },
     "metadata": {
      "needs_background": "light"
     },
     "output_type": "display_data"
    }
   ],
   "source": [
    "# plotting the top 50 and bottom 50 items from the graph above.\n",
    "freq_top = frequency_count.head(100)\n",
    "freq_bot = frequency_count.tail(100)\n",
    "\n",
    "# concatenating top and bottom parts to plot together.\n",
    "freq = pd.concat([freq_top, freq_bot], axis=0)\n",
    "freq.plot(kind='scatter', y='add_to_cart_order_y', x='ave_order')"
   ]
  }
 ],
 "metadata": {
  "kernelspec": {
   "display_name": "Python 3",
   "language": "python",
   "name": "python3"
  },
  "language_info": {
   "codemirror_mode": {
    "name": "ipython",
    "version": 3
   },
   "file_extension": ".py",
   "mimetype": "text/x-python",
   "name": "python",
   "nbconvert_exporter": "python",
   "pygments_lexer": "ipython3",
   "version": "3.7.2"
  }
 },
 "nbformat": 4,
 "nbformat_minor": 2
}
